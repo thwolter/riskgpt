{
 "cells": [
  {
   "cell_type": "markdown",
   "metadata": {},
   "source": [
    "# RiskGPT Playground\n",
    "This notebook demonstrates basic usage of the `riskgpt` package."
   ],
   "id": "9dc6deb059d6cad6"
  },
  {
   "cell_type": "code",
   "metadata": {
    "ExecuteTime": {
     "end_time": "2025-06-07T12:01:49.661079Z",
     "start_time": "2025-06-07T12:01:49.641194Z"
    }
   },
   "source": [
    "from riskgpt import configure_logging\n",
    "configure_logging()"
   ],
   "id": "b7b0bfdab3fc2db4",
   "outputs": [
    {
     "data": {
      "text/plain": [
       "<Logger riskgpt (INFO)>"
      ]
     },
     "execution_count": 3,
     "metadata": {},
     "output_type": "execute_result"
    }
   ],
   "execution_count": 3
  },
  {
   "cell_type": "code",
   "metadata": {
    "ExecuteTime": {
     "end_time": "2025-06-07T12:01:57.078171Z",
     "start_time": "2025-06-07T12:01:51.949425Z"
    }
   },
   "source": [
    "from riskgpt.chains import get_categories_chain\n",
    "from riskgpt.models.schemas import CategoryRequest\n",
    "\n",
    "request = CategoryRequest(\n",
    "    project_id=\"demo\",\n",
    "    project_description=\"An IT project to introduce a new CRM system.\",\n",
    "    domain_knowledge=\"The company operates in the B2B market.\",\n",
    "    language=\"en\"\n",
    ")\n",
    "\n",
    "response = get_categories_chain(request)\n",
    "print(response.model_dump_json(indent=2))"
   ],
   "id": "57201a3a561f13b5",
   "outputs": [
    {
     "name": "stderr",
     "output_type": "stream",
     "text": [
      "2025-06-07 14:01:57,074 - riskgpt - INFO - Consumed 648 tokens (0.0005 USD) for 'get_categories' using gpt-4.1-mini\n",
      "2025-06-07 14:01:57,074 - riskgpt - INFO - Consumed 648 tokens (0.0005 USD) for 'get_categories' using gpt-4.1-mini\n"
     ]
    },
    {
     "name": "stdout",
     "output_type": "stream",
     "text": [
      "{\n",
      "  \"categories\": [\n",
      "    \"Technical Risk\",\n",
      "    \"Operational Risk\",\n",
      "    \"Financial Risk\",\n",
      "    \"Vendor Risk\",\n",
      "    \"Change Management Risk\",\n",
      "    \"Security Risk\",\n",
      "    \"Compliance Risk\",\n",
      "    \"Stakeholder Risk\",\n",
      "    \"Data Migration Risk\"\n",
      "  ],\n",
      "  \"rationale\": \"Technical Risk involves potential issues with system integration, compatibility, or performance of the new CRM. Operational Risk relates to impacts on business processes and user adoption within the B2B environment. Financial Risk covers budget overruns or unexpected costs. Vendor Risk addresses the reliability and support capabilities of the CRM provider. Change Management Risk concerns resistance from employees and the effectiveness of training. Security Risk includes vulnerabilities in data protection and access controls. Compliance Risk involves adhering to industry regulations applicable to B2B transactions. Stakeholder Risk pertains to alignment and communication among internal and external stakeholders. Data Migration Risk involves challenges in transferring existing customer data accurately and completely into the new system.\",\n",
      "  \"response_info\": {\n",
      "    \"consumed_tokens\": 648,\n",
      "    \"total_cost\": 0.0004944000000000001,\n",
      "    \"prompt_name\": \"get_categories\",\n",
      "    \"model_name\": \"gpt-4.1-mini\"\n",
      "  }\n",
      "}\n"
     ]
    }
   ],
   "execution_count": 4
  },
  {
   "cell_type": "code",
   "execution_count": null,
   "metadata": {},
   "outputs": [],
   "source": [
    "from riskgpt.chains import get_risks_chain\n",
    "from riskgpt.models.schemas import RiskRequest\n",
    "\n",
    "risk_request = RiskRequest(\n",
    "    project_id=\"demo\",\n",
    "    project_description=\"An IT project to introduce a new CRM system.\",\n",
    "    category=\"Technical\",\n",
    "    domain_knowledge=\"The company operates in the B2B market.\",\n",
    "    language=\"en\"\n",
    ")\n",
    "\n",
    "risk_response = get_risks_chain(risk_request)\n",
    "print(risk_response.model_dump_json(indent=2))"
   ],
   "id": "7bce244530763f65"
  },
  {
   "cell_type": "code",
   "execution_count": null,
   "metadata": {},
   "outputs": [],
   "source": [
    "from riskgpt.chains import check_definition_chain\n",
    "from riskgpt.models.schemas import DefinitionCheckRequest\n",
    "\n",
    "check_request = DefinitionCheckRequest(\n",
    "    project_id=\"demo\",\n",
    "    risk_description=\"Staff may not adopt the new CRM system effectively.\",\n",
    "    domain_knowledge=\"The company operates in the B2B market.\",\n",
    "    language=\"en\"\n",
    ")\n",
    "\n",
    "check_response = check_definition_chain(check_request)\n",
    "print(check_response.model_dump_json(indent=2))"
   ],
   "id": "bfbb2f6d92afd000"
  },
  {
   "cell_type": "code",
   "execution_count": null,
   "metadata": {},
   "outputs": [],
   "source": [
    "from riskgpt.chains import get_drivers_chain\n",
    "from riskgpt.models.schemas import DriverRequest\n",
    "\n",
    "driver_request = DriverRequest(\n",
    "    project_id=\"demo\",\n",
    "    risk_description=\"Staff may not adopt the new CRM system effectively.\",\n",
    "    domain_knowledge=\"The company operates in the B2B market.\",\n",
    "    language=\"en\"\n",
    ")\n",
    "\n",
    "driver_response = get_drivers_chain(driver_request)\n",
    "print(driver_response.model_dump_json(indent=2))"
   ],
   "id": "e0e5d6d304b8410a"
  },
  {
   "cell_type": "code",
   "execution_count": null,
   "metadata": {},
   "outputs": [],
   "source": [
    "from riskgpt.chains import get_assessment_chain\n",
    "from riskgpt.models.schemas import AssessmentRequest\n",
    "\n",
    "assessment_request = AssessmentRequest(\n",
    "    project_id=\"demo\",\n",
    "    risk_description=\"Staff may not adopt the new CRM system effectively.\",\n",
    "    domain_knowledge=\"The company operates in the B2B market.\",\n",
    "    language=\"en\"\n",
    ")\n",
    "\n",
    "assessment_response = get_assessment_chain(assessment_request)\n",
    "print(assessment_response.model_dump_json(indent=2))"
   ],
   "id": "ebc8be951ae32e75"
  },
  {
   "cell_type": "code",
   "execution_count": null,
   "metadata": {},
   "outputs": [],
   "source": [
    "from riskgpt.chains import get_mitigations_chain\n",
    "from riskgpt.models.schemas import MitigationRequest\n",
    "\n",
    "mitigation_request = MitigationRequest(\n",
    "    project_id=\"demo\",\n",
    "    risk_description=\"Staff may not adopt the new CRM system effectively.\",\n",
    "    drivers=[\"Lack of training\", \"Insufficient time for adoption\"],\n",
    "    domain_knowledge=\"The company operates in the B2B market.\",\n",
    "    language=\"en\"\n",
    ")\n",
    "\n",
    "mitigation_response = get_mitigations_chain(mitigation_request)\n",
    "print(mitigation_response.model_dump_json(indent=2))"
   ],
   "id": "800316db3d660c92"
  },
  {
   "cell_type": "code",
   "metadata": {},
   "execution_count": null,
   "outputs": [],
   "source": [
    "from riskgpt.chains import prioritize_risks_chain\n",
    "from riskgpt.models.schemas import PrioritizationRequest\n",
    "\n",
    "priority_request = PrioritizationRequest(\n",
    "    project_id=\"demo\",\n",
    "    risks=[r.description for r in risk_response.risks],\n",
    "    language=\"en\"\n",
    ")\n",
    "\n",
    "priority_response = prioritize_risks_chain(priority_request)\n",
    "print(priority_response.model_dump_json(indent=2))\n"
   ]
  },
  {
   "cell_type": "code",
   "metadata": {},
   "execution_count": null,
   "outputs": [],
   "source": [
    "from riskgpt.chains import cost_benefit_chain\n",
    "from riskgpt.models.schemas import CostBenefitRequest\n",
    "\n",
    "cb_request = CostBenefitRequest(\n",
    "    project_id=\"demo\",\n",
    "    risk_description=\"Staff may not adopt the new CRM system effectively.\",\n",
    "    mitigations=mitigation_response.mitigations,\n",
    "    language=\"en\"\n",
    ")\n",
    "\n",
    "cb_response = cost_benefit_chain(cb_request)\n",
    "print(cb_response.model_dump_json(indent=2))\n"
   ]
  },
  {
   "cell_type": "code",
   "metadata": {},
   "execution_count": null,
   "outputs": [],
   "source": [
    "from riskgpt.chains import get_monitoring_chain\n",
    "from riskgpt.models.schemas import MonitoringRequest\n",
    "\n",
    "monitoring_request = MonitoringRequest(\n",
    "    project_id=\"demo\",\n",
    "    risk_description=\"Staff may not adopt the new CRM system effectively.\",\n",
    "    language=\"en\"\n",
    ")\n",
    "\n",
    "monitoring_response = get_monitoring_chain(monitoring_request)\n",
    "print(monitoring_response.model_dump_json(indent=2))\n"
   ]
  },
  {
   "cell_type": "code",
   "metadata": {},
   "execution_count": null,
   "outputs": [],
   "source": [
    "from riskgpt.chains import get_opportunities_chain\n",
    "from riskgpt.models.schemas import OpportunityRequest\n",
    "\n",
    "opportunity_request = OpportunityRequest(\n",
    "    project_id=\"demo\",\n",
    "    risks=[r.description for r in risk_response.risks],\n",
    "    language=\"en\"\n",
    ")\n",
    "\n",
    "opportunity_response = get_opportunities_chain(opportunity_request)\n",
    "print(opportunity_response.model_dump_json(indent=2))\n"
   ]
  },
  {
   "cell_type": "code",
   "metadata": {},
   "execution_count": null,
   "outputs": [],
   "source": [
    "from riskgpt.chains import communicate_risks_chain\n",
    "from riskgpt.models.schemas import CommunicationRequest\n",
    "\n",
    "communication_request = CommunicationRequest(\n",
    "    project_id=\"demo\",\n",
    "    summary=\"Summary of CRM project risks and mitigations.\",\n",
    "    language=\"en\"\n",
    ")\n",
    "\n",
    "communication_response = communicate_risks_chain(communication_request)\n",
    "print(communication_response.model_dump_json(indent=2))\n"
   ]
  },
  {
   "cell_type": "code",
   "metadata": {},
   "execution_count": null,
   "outputs": [],
   "source": [
    "from riskgpt.chains import bias_check_chain\n",
    "from riskgpt.models.schemas import BiasCheckRequest\n",
    "\n",
    "bias_request = BiasCheckRequest(\n",
    "    risk_description=\"Staff may not adopt the new CRM system effectively.\",\n",
    "    language=\"en\"\n",
    ")\n",
    "\n",
    "bias_response = bias_check_chain(bias_request)\n",
    "print(bias_response.model_dump_json(indent=2))\n"
   ]
  },
  {
   "cell_type": "code",
   "metadata": {},
   "execution_count": null,
   "outputs": [],
   "source": [
    "from riskgpt.chains import get_correlation_tags_chain\n",
    "from riskgpt.models.schemas import CorrelationTagRequest\n",
    "\n",
    "tag_request = CorrelationTagRequest(\n",
    "    project_description=\"CRM rollout\",\n",
    "    risk_titles=[r.title for r in risk_response.risks],\n",
    "    known_drivers=driver_response.drivers,\n",
    "    domain_knowledge=\"The company operates in the B2B market.\",\n",
    "    language=\"en\"\n",
    ")\n",
    "\n",
    "tag_response = get_correlation_tags_chain(tag_request)\n",
    "print(tag_response.model_dump_json(indent=2))\n"
   ]
  }
 ],
 "metadata": {
  "kernelspec": {
   "display_name": "Python 3",
   "language": "python",
   "name": "python3"
  },
  "language_info": {
   "name": "python",
   "version": "3.12"
  }
 },
 "nbformat": 4,
 "nbformat_minor": 5
}
