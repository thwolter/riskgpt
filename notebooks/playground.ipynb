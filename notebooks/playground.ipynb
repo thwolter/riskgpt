{
 "cells": [
  {
   "cell_type": "markdown",
   "metadata": {},
   "source": [
    "# RiskGPT Playground\n",
    "This notebook demonstrates basic usage of the `riskgpt` package."
   ]
  },
  {
   "cell_type": "code",
   "execution_count": null,
   "metadata": {},
   "outputs": [],
   "source": [
    "from riskgpt import configure_logging\n",
    "configure_logging()"
   ]
  },
  {
   "cell_type": "code",
   "execution_count": null,
   "metadata": {},
   "outputs": [],
   "source": [
    "from riskgpt.chains import get_categories_chain\n",
    "from riskgpt.models.schemas import CategoryRequest\n",
    "\n",
    "request = CategoryRequest(\n",
    "    project_id=\"demo\",\n",
    "    project_description=\"An IT project to introduce a new CRM system.\",\n",
    "    domain_knowledge=\"The company operates in the B2B market.\",\n",
    "    language=\"en\"\n",
    ")\n",
    "\n",
    "response = get_categories_chain(request)\n",
    "print(response)"
   ]
  }
 ],
 "metadata": {
  "kernelspec": {
   "display_name": "Python 3",
   "language": "python",
   "name": "python3"
  },
  "language_info": {
   "name": "python",
   "version": "3.12"
  }
 },
 "nbformat": 4,
 "nbformat_minor": 5
}
