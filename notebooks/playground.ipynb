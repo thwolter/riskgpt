{
 "cells": [
  {
   "cell_type": "markdown",
   "id": "7ba7013550016d89",
   "metadata": {},
   "source": [
    "# RiskGPT Playground\n",
    "This notebook demonstrates basic usage of the `riskgpt` package."
   ]
  },
  {
   "cell_type": "code",
   "id": "a621689fc2fdf84b",
   "metadata": {},
   "source": [
    "from models.schemas import AudienceEnum\n",
    "\n",
    "from riskgpt import configure_logging\n",
    "\n",
    "configure_logging()"
   ],
   "outputs": [],
   "execution_count": null
  },
  {
   "cell_type": "code",
   "id": "f133fba063dbe95",
   "metadata": {},
   "source": [
    "from riskgpt.chains import get_categories_chain\n",
    "from riskgpt.models.schemas import CategoryRequest\n",
    "\n",
    "request = CategoryRequest(\n",
    "    project_id=\"demo\",\n",
    "    project_description=\"An IT project to introduce a new CRM system.\",\n",
    "    domain_knowledge=\"The company operates in the B2B market.\",\n",
    "    language=\"en\"\n",
    ")\n",
    "\n",
    "response = get_categories_chain(request)\n",
    "print(response.model_dump_json(indent=2))"
   ],
   "outputs": [],
   "execution_count": null
  },
  {
   "cell_type": "code",
   "id": "ad137d389431e142",
   "metadata": {},
   "source": [
    "from riskgpt.chains import get_risks_chain\n",
    "from riskgpt.models.schemas import RiskRequest\n",
    "\n",
    "risk_request = RiskRequest(\n",
    "    project_id=\"demo\",\n",
    "    project_description=\"An IT project to introduce a new CRM system.\",\n",
    "    category=\"Technical\",\n",
    "    domain_knowledge=\"The company operates in the B2B market.\",\n",
    "    language=\"en\"\n",
    ")\n",
    "\n",
    "risk_response = get_risks_chain(risk_request)\n",
    "print(risk_response.model_dump_json(indent=2))"
   ],
   "outputs": [],
   "execution_count": null
  },
  {
   "cell_type": "code",
   "id": "b39613e76f93bf1e",
   "metadata": {},
   "source": [
    "from riskgpt.chains import check_definition_chain\n",
    "from riskgpt.models.schemas import DefinitionCheckRequest\n",
    "\n",
    "check_request = DefinitionCheckRequest(\n",
    "    project_id=\"demo\",\n",
    "    risk_description=\"Staff may not adopt the new CRM system effectively.\",\n",
    "    domain_knowledge=\"The company operates in the B2B market.\",\n",
    "    language=\"en\"\n",
    ")\n",
    "\n",
    "check_response = check_definition_chain(check_request)\n",
    "print(check_response.model_dump_json(indent=2))"
   ],
   "outputs": [],
   "execution_count": null
  },
  {
   "cell_type": "code",
   "id": "c6d68532094c004f",
   "metadata": {},
   "source": [
    "from riskgpt.chains import get_drivers_chain\n",
    "from riskgpt.models.schemas import DriverRequest\n",
    "\n",
    "driver_request = DriverRequest(\n",
    "    project_id=\"demo\",\n",
    "    risk_description=\"Staff may not adopt the new CRM system effectively.\",\n",
    "    domain_knowledge=\"The company operates in the B2B market.\",\n",
    "    language=\"en\"\n",
    ")\n",
    "\n",
    "driver_response = get_drivers_chain(driver_request)\n",
    "print(driver_response.model_dump_json(indent=2))"
   ],
   "outputs": [],
   "execution_count": null
  },
  {
   "cell_type": "code",
   "id": "48762be89341fe10",
   "metadata": {},
   "source": [
    "from riskgpt.chains import get_assessment_chain\n",
    "from riskgpt.models.schemas import AssessmentRequest\n",
    "\n",
    "assessment_request = AssessmentRequest(\n",
    "    project_id=\"demo\",\n",
    "    risk_description=\"Staff may not adopt the new CRM system effectively.\",\n",
    "    domain_knowledge=\"The company operates in the B2B market.\",\n",
    "    language=\"en\"\n",
    ")\n",
    "\n",
    "assessment_response = get_assessment_chain(assessment_request)\n",
    "print(assessment_response.model_dump_json(indent=2))"
   ],
   "outputs": [],
   "execution_count": null
  },
  {
   "cell_type": "code",
   "id": "74fb1716eda28cf1",
   "metadata": {},
   "source": [
    "from riskgpt.chains import get_mitigations_chain\n",
    "from riskgpt.models.schemas import MitigationRequest\n",
    "\n",
    "mitigation_request = MitigationRequest(\n",
    "    project_id=\"demo\",\n",
    "    risk_description=\"Staff may not adopt the new CRM system effectively.\",\n",
    "    drivers=[\"Lack of training\", \"Insufficient time for adoption\"],\n",
    "    domain_knowledge=\"The company operates in the B2B market.\",\n",
    "    language=\"en\"\n",
    ")\n",
    "\n",
    "mitigation_response = get_mitigations_chain(mitigation_request)\n",
    "print(mitigation_response.model_dump_json(indent=2))"
   ],
   "outputs": [],
   "execution_count": null
  },
  {
   "cell_type": "code",
   "id": "1d49cb14c706114d",
   "metadata": {},
   "source": [
    "from riskgpt.chains import prioritize_risks_chain\n",
    "from riskgpt.models.schemas import PrioritizationRequest\n",
    "\n",
    "priority_request = PrioritizationRequest(\n",
    "    project_id=\"demo\",\n",
    "    risks=[r.description for r in risk_response.risks],\n",
    "    language=\"en\"\n",
    ")\n",
    "\n",
    "priority_response = prioritize_risks_chain(priority_request)\n",
    "print(priority_response.model_dump_json(indent=2))\n"
   ],
   "outputs": [],
   "execution_count": null
  },
  {
   "cell_type": "code",
   "id": "98065c8379c46e9f",
   "metadata": {},
   "source": [
    "from riskgpt.chains import cost_benefit_chain\n",
    "from riskgpt.models.schemas import CostBenefitRequest\n",
    "\n",
    "cb_request = CostBenefitRequest(\n",
    "    project_id=\"demo\",\n",
    "    risk_description=\"Staff may not adopt the new CRM system effectively.\",\n",
    "    mitigations=mitigation_response.mitigations,\n",
    "    language=\"en\"\n",
    ")\n",
    "\n",
    "cb_response = cost_benefit_chain(cb_request)\n",
    "print(cb_response.model_dump_json(indent=2))\n"
   ],
   "outputs": [],
   "execution_count": null
  },
  {
   "cell_type": "code",
   "id": "350760f437c31f4e",
   "metadata": {},
   "source": [
    "from riskgpt.chains import get_monitoring_chain\n",
    "from riskgpt.models.schemas import MonitoringRequest\n",
    "\n",
    "monitoring_request = MonitoringRequest(\n",
    "    project_id=\"demo\",\n",
    "    risk_description=\"Staff may not adopt the new CRM system effectively.\",\n",
    "    language=\"en\"\n",
    ")\n",
    "\n",
    "monitoring_response = get_monitoring_chain(monitoring_request)\n",
    "print(monitoring_response.model_dump_json(indent=2))\n"
   ],
   "outputs": [],
   "execution_count": null
  },
  {
   "cell_type": "code",
   "id": "f9a8eff0e0782dba",
   "metadata": {},
   "source": [
    "from riskgpt.chains import get_opportunities_chain\n",
    "from riskgpt.models.schemas import OpportunityRequest\n",
    "\n",
    "opportunity_request = OpportunityRequest(\n",
    "    project_id=\"demo\",\n",
    "    risks=[r.description for r in risk_response.risks],\n",
    "    language=\"en\"\n",
    ")\n",
    "\n",
    "opportunity_response = get_opportunities_chain(opportunity_request)\n",
    "print(opportunity_response.model_dump_json(indent=2))\n"
   ],
   "outputs": [],
   "execution_count": null
  },
  {
   "cell_type": "code",
   "id": "b9c23d28a76dd03c",
   "metadata": {},
   "source": [
    "from riskgpt.chains import communicate_risks_chain\n",
    "from riskgpt.models.schemas import CommunicationRequest\n",
    "\n",
    "communication_request = CommunicationRequest(\n",
    "    project_id=\"demo\",\n",
    "    summary=\"Summary of CRM project risks and mitigations.\",\n",
    "    language=\"en\"\n",
    ")\n",
    "\n",
    "communication_response = communicate_risks_chain(communication_request)\n",
    "print(communication_response.model_dump_json(indent=2))\n"
   ],
   "outputs": [],
   "execution_count": null
  },
  {
   "cell_type": "code",
   "id": "6066539370ace028",
   "metadata": {},
   "source": [
    "from riskgpt.chains import bias_check_chain\n",
    "from riskgpt.models.schemas import BiasCheckRequest\n",
    "\n",
    "bias_request = BiasCheckRequest(\n",
    "    risk_description=\"Staff may not adopt the new CRM system effectively.\",\n",
    "    language=\"en\"\n",
    ")\n",
    "\n",
    "bias_response = bias_check_chain(bias_request)\n",
    "print(bias_response.model_dump_json(indent=2))\n"
   ],
   "outputs": [],
   "execution_count": null
  },
  {
   "cell_type": "code",
   "id": "1c86b8deede5e434",
   "metadata": {},
   "source": [
    "from riskgpt.chains import get_correlation_tags_chain\n",
    "from riskgpt.models.schemas import CorrelationTagRequest\n",
    "\n",
    "tag_request = CorrelationTagRequest(\n",
    "    project_description=\"CRM rollout\",\n",
    "    risk_titles=[r.title for r in risk_response.risks],\n",
    "    known_drivers=driver_response.drivers,\n",
    "    domain_knowledge=\"The company operates in the B2B market.\",\n",
    "    language=\"en\"\n",
    ")\n",
    "\n",
    "tag_response = get_correlation_tags_chain(tag_request)\n",
    "print(tag_response.model_dump_json(indent=2))\n"
   ],
   "outputs": [],
   "execution_count": null
  },
  {
   "cell_type": "code",
   "id": "48d45c2e6d564115",
   "metadata": {},
   "source": [
    "from riskgpt.models.schemas import PresentationRequest\n",
    "from riskgpt.workflows import prepare_presentation_output\n",
    "\n",
    "presentation_request = PresentationRequest(\n",
    "    project_id=\"demo\",\n",
    "    project_description=\"Introduce a new CRM system\",\n",
    "    audience=AudienceEnum.executive,\n",
    "    focus_areas=[\"Technical\"],\n",
    "    language=\"en\"\n",
    ")\n",
    "\n",
    "presentation_response = prepare_presentation_output(presentation_request)\n",
    "print(presentation_response.model_dump_json(indent=2))\n"
   ],
   "outputs": [],
   "execution_count": null
  },
  {
   "cell_type": "code",
   "id": "fb09f56a35f11bef",
   "metadata": {},
   "source": [
    "from riskgpt.models.schemas import PresentationRequest\n",
    "from riskgpt.workflows import prepare_presentation_output\n",
    "\n",
    "presentation_request = PresentationRequest(\n",
    "    project_id=\"demo\",\n",
    "    project_description=\"Introduce a new CRM system\",\n",
    "    audience=AudienceEnum.regulator,\n",
    "    focus_areas=[\"Technical\"],\n",
    "    language=\"en\"\n",
    ")\n",
    "\n",
    "presentation_response = prepare_presentation_output(presentation_request)\n",
    "print(presentation_response.model_dump_json(indent=2))"
   ],
   "outputs": [],
   "execution_count": null
  },
  {
   "cell_type": "code",
   "id": "ac6b0cbb4d9d45e2",
   "metadata": {},
   "source": [
    "from riskgpt.models.schemas import ExternalContextRequest\n",
    "from riskgpt.workflows import external_context_enrichment\n",
    "\n",
    "ext_request = ExternalContextRequest(\n",
    "    project_name=\"Demo Project\",\n",
    "    business_context=\"SEFE Energy fiber optic infrastructure in Germany\",\n",
    "    focus_keywords=[\"cyber\"],\n",
    ")\n",
    "\n",
    "ext_response = external_context_enrichment(ext_request)\n",
    "print(ext_response.model_dump_json(indent=2))\n"
   ],
   "outputs": [],
   "execution_count": null
  },
  {
   "metadata": {
    "ExecuteTime": {
     "end_time": "2025-06-08T09:22:50.832606Z",
     "start_time": "2025-06-08T09:22:50.016730Z"
    }
   },
   "cell_type": "code",
   "source": [
    "from riskgpt.models.schemas import ContextQualityRequest\n",
    "from riskgpt.workflows import check_context_quality\n",
    "\n",
    "context_quality_request = ContextQualityRequest(\n",
    "    project_description=\"Introduce a new CRM system\",\n",
    "    domain_knowledge=\"The company operates in the B2B market.\",\n",
    "    language=\"en\"\n",
    ")\n",
    "\n",
    "context_quality_response = check_context_quality(context_quality_request)\n",
    "print(context_quality_response.model_dump_json(indent=2))"
   ],
   "id": "9f4ecb234727f58e",
   "outputs": [
    {
     "ename": "ValidationError",
     "evalue": "1 validation error for ContextQualityRequest\ncontext_knowledge\n  Field required [type=missing, input_value={'project_description': '...ket.', 'language': 'en'}, input_type=dict]\n    For further information visit https://errors.pydantic.dev/2.11/v/missing",
     "output_type": "error",
     "traceback": [
      "\u001B[31m---------------------------------------------------------------------------\u001B[39m",
      "\u001B[31mValidationError\u001B[39m                           Traceback (most recent call last)",
      "\u001B[36mCell\u001B[39m\u001B[36m \u001B[39m\u001B[32mIn[1]\u001B[39m\u001B[32m, line 4\u001B[39m\n\u001B[32m      1\u001B[39m \u001B[38;5;28;01mfrom\u001B[39;00m\u001B[38;5;250m \u001B[39m\u001B[34;01mriskgpt\u001B[39;00m\u001B[34;01m.\u001B[39;00m\u001B[34;01mmodels\u001B[39;00m\u001B[34;01m.\u001B[39;00m\u001B[34;01mschemas\u001B[39;00m\u001B[38;5;250m \u001B[39m\u001B[38;5;28;01mimport\u001B[39;00m ContextQualityRequest\n\u001B[32m      2\u001B[39m \u001B[38;5;28;01mfrom\u001B[39;00m\u001B[38;5;250m \u001B[39m\u001B[34;01mriskgpt\u001B[39;00m\u001B[34;01m.\u001B[39;00m\u001B[34;01mworkflows\u001B[39;00m\u001B[38;5;250m \u001B[39m\u001B[38;5;28;01mimport\u001B[39;00m check_context_quality\n\u001B[32m----> \u001B[39m\u001B[32m4\u001B[39m context_quality_request = \u001B[43mContextQualityRequest\u001B[49m\u001B[43m(\u001B[49m\n\u001B[32m      5\u001B[39m \u001B[43m    \u001B[49m\u001B[43mproject_description\u001B[49m\u001B[43m=\u001B[49m\u001B[33;43m\"\u001B[39;49m\u001B[33;43mIntroduce a new CRM system\u001B[39;49m\u001B[33;43m\"\u001B[39;49m\u001B[43m,\u001B[49m\n\u001B[32m      6\u001B[39m \u001B[43m    \u001B[49m\u001B[43mdomain_knowledge\u001B[49m\u001B[43m=\u001B[49m\u001B[33;43m\"\u001B[39;49m\u001B[33;43mThe company operates in the B2B market.\u001B[39;49m\u001B[33;43m\"\u001B[39;49m\u001B[43m,\u001B[49m\n\u001B[32m      7\u001B[39m \u001B[43m    \u001B[49m\u001B[43mlanguage\u001B[49m\u001B[43m=\u001B[49m\u001B[33;43m\"\u001B[39;49m\u001B[33;43men\u001B[39;49m\u001B[33;43m\"\u001B[39;49m\n\u001B[32m      8\u001B[39m \u001B[43m)\u001B[49m\n\u001B[32m     10\u001B[39m context_quality_response = check_context_quality(context_quality_request)\n\u001B[32m     11\u001B[39m \u001B[38;5;28mprint\u001B[39m(context_quality_response.model_dump_json(indent=\u001B[32m2\u001B[39m))\n",
      "\u001B[36mFile \u001B[39m\u001B[32m~/PycharmProjects/projectrm/riskgpt/.venv/lib/python3.12/site-packages/pydantic/main.py:253\u001B[39m, in \u001B[36mBaseModel.__init__\u001B[39m\u001B[34m(self, **data)\u001B[39m\n\u001B[32m    251\u001B[39m \u001B[38;5;66;03m# `__tracebackhide__` tells pytest and some other tools to omit this function from tracebacks\u001B[39;00m\n\u001B[32m    252\u001B[39m __tracebackhide__ = \u001B[38;5;28;01mTrue\u001B[39;00m\n\u001B[32m--> \u001B[39m\u001B[32m253\u001B[39m validated_self = \u001B[38;5;28;43mself\u001B[39;49m\u001B[43m.\u001B[49m\u001B[43m__pydantic_validator__\u001B[49m\u001B[43m.\u001B[49m\u001B[43mvalidate_python\u001B[49m\u001B[43m(\u001B[49m\u001B[43mdata\u001B[49m\u001B[43m,\u001B[49m\u001B[43m \u001B[49m\u001B[43mself_instance\u001B[49m\u001B[43m=\u001B[49m\u001B[38;5;28;43mself\u001B[39;49m\u001B[43m)\u001B[49m\n\u001B[32m    254\u001B[39m \u001B[38;5;28;01mif\u001B[39;00m \u001B[38;5;28mself\u001B[39m \u001B[38;5;129;01mis\u001B[39;00m \u001B[38;5;129;01mnot\u001B[39;00m validated_self:\n\u001B[32m    255\u001B[39m     warnings.warn(\n\u001B[32m    256\u001B[39m         \u001B[33m'\u001B[39m\u001B[33mA custom validator is returning a value other than `self`.\u001B[39m\u001B[38;5;130;01m\\n\u001B[39;00m\u001B[33m'\u001B[39m\n\u001B[32m    257\u001B[39m         \u001B[33m\"\u001B[39m\u001B[33mReturning anything other than `self` from a top level model validator isn\u001B[39m\u001B[33m'\u001B[39m\u001B[33mt supported when validating via `__init__`.\u001B[39m\u001B[38;5;130;01m\\n\u001B[39;00m\u001B[33m\"\u001B[39m\n\u001B[32m    258\u001B[39m         \u001B[33m'\u001B[39m\u001B[33mSee the `model_validator` docs (https://docs.pydantic.dev/latest/concepts/validators/#model-validators) for more details.\u001B[39m\u001B[33m'\u001B[39m,\n\u001B[32m    259\u001B[39m         stacklevel=\u001B[32m2\u001B[39m,\n\u001B[32m    260\u001B[39m     )\n",
      "\u001B[31mValidationError\u001B[39m: 1 validation error for ContextQualityRequest\ncontext_knowledge\n  Field required [type=missing, input_value={'project_description': '...ket.', 'language': 'en'}, input_type=dict]\n    For further information visit https://errors.pydantic.dev/2.11/v/missing"
     ]
    }
   ],
   "execution_count": 1
  }
 ],
 "metadata": {
  "kernelspec": {
   "display_name": "Python 3",
   "language": "python",
   "name": "python3"
  },
  "language_info": {
   "name": "python",
   "version": "3.12"
  }
 },
 "nbformat": 4,
 "nbformat_minor": 5
}
