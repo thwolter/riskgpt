{
 "cells": [
  {
   "metadata": {},
   "cell_type": "markdown",
   "source": [
    "# RiskGPT Playground\n",
    "This notebook demonstrates basic usage of the `riskgpt` package."
   ],
   "id": "7ba7013550016d89"
  },
  {
   "metadata": {},
   "cell_type": "code",
   "outputs": [],
   "execution_count": null,
   "source": [
    "from riskgpt import configure_logging\n",
    "configure_logging()"
   ],
   "id": "a621689fc2fdf84b"
  },
  {
   "metadata": {
    "ExecuteTime": {
     "end_time": "2025-06-07T12:39:21.392879Z",
     "start_time": "2025-06-07T12:39:18.806506Z"
    }
   },
   "cell_type": "code",
   "source": [
    "from riskgpt.chains import get_categories_chain\n",
    "from riskgpt.models.schemas import CategoryRequest\n",
    "\n",
    "request = CategoryRequest(\n",
    "    project_id=\"demo\",\n",
    "    project_description=\"An IT project to introduce a new CRM system.\",\n",
    "    domain_knowledge=\"The company operates in the B2B market.\",\n",
    "    language=\"en\"\n",
    ")\n",
    "\n",
    "response = get_categories_chain(request)\n",
    "print(response.model_dump_json(indent=2))"
   ],
   "id": "f133fba063dbe95",
   "outputs": [
    {
     "name": "stdout",
     "output_type": "stream",
     "text": [
      "{\n",
      "  \"categories\": [\n",
      "    \"Technical Risks\",\n",
      "    \"Operational Risks\",\n",
      "    \"User Adoption Risks\",\n",
      "    \"Data Security and Privacy Risks\",\n",
      "    \"Vendor and Supply Chain Risks\",\n",
      "    \"Change Management Risks\",\n",
      "    \"Integration Risks\",\n",
      "    \"Compliance and Regulatory Risks\",\n",
      "    \"Market and Competitive Risks\"\n",
      "  ],\n",
      "  \"rationale\": \"These categories encompass the primary areas of risk associated with implementing a new CRM system in a B2B context. Technical risks involve system development and integration challenges. Operational risks relate to process disruptions. User adoption risks concern resistance or low engagement from staff. Data security and privacy risks address concerns over sensitive client information. Vendor and supply chain risks relate to third-party dependencies. Change management risks involve managing organizational change effectively. Integration risks pertain to compatibility with existing systems. Compliance and regulatory risks involve adherence to legal standards. Market and competitive risks consider the potential impact on the company's market position.\",\n",
      "  \"response_info\": {\n",
      "    \"consumed_tokens\": 646,\n",
      "    \"total_cost\": 0.0001228,\n",
      "    \"prompt_name\": \"get_categories\",\n",
      "    \"model_name\": \"gpt-4.1-nano\"\n",
      "  }\n",
      "}\n"
     ]
    }
   ],
   "execution_count": 2
  },
  {
   "metadata": {
    "ExecuteTime": {
     "end_time": "2025-06-07T12:39:34.450588Z",
     "start_time": "2025-06-07T12:39:26.600713Z"
    }
   },
   "cell_type": "code",
   "source": [
    "from riskgpt.chains import get_risks_chain\n",
    "from riskgpt.models.schemas import RiskRequest\n",
    "\n",
    "risk_request = RiskRequest(\n",
    "    project_id=\"demo\",\n",
    "    project_description=\"An IT project to introduce a new CRM system.\",\n",
    "    category=\"Technical\",\n",
    "    domain_knowledge=\"The company operates in the B2B market.\",\n",
    "    language=\"en\"\n",
    ")\n",
    "\n",
    "risk_response = get_risks_chain(risk_request)\n",
    "print(risk_response.model_dump_json(indent=2))"
   ],
   "id": "ad137d389431e142",
   "outputs": [
    {
     "name": "stdout",
     "output_type": "stream",
     "text": [
      "{\n",
      "  \"risks\": [\n",
      "    {\n",
      "      \"title\": \"System Integration Failures\",\n",
      "      \"description\": \"Event: The new CRM system fails to integrate with existing IT infrastructure; Cause: Incompatibility or misconfiguration; Consequence: Data silos and operational disruptions.\",\n",
      "      \"category\": \"Technical\"\n",
      "    },\n",
      "    {\n",
      "      \"title\": \"Data Migration Errors\",\n",
      "      \"description\": \"Event: Data migration from legacy systems introduces errors; Cause: Inadequate data validation processes; Consequence: Data corruption leading to inaccurate insights and decisions.\",\n",
      "      \"category\": \"Technical\"\n",
      "    },\n",
      "    {\n",
      "      \"title\": \"Inadequate System Scalability\",\n",
      "      \"description\": \"Event: The CRM system cannot handle increasing data volumes or user loads; Cause: Poor capacity planning; Consequence: system performance degradation and user dissatisfaction.\",\n",
      "      \"category\": \"Technical\"\n",
      "    },\n",
      "    {\n",
      "      \"title\": \"Security Vulnerabilities\",\n",
      "      \"description\": \"Event: The CRM system has unpatched security flaws; Cause: Insufficient security protocols or oversight; Consequence: Data breaches and compliance violations.\",\n",
      "      \"category\": \"Technical\"\n",
      "    },\n",
      "    {\n",
      "      \"title\": \"Technical Obsolescence\",\n",
      "      \"description\": \"Event: The CRM technology becomes outdated; Cause: Rapid technological advancements; Consequence: Increased maintenance costs and reduced system supportability.\",\n",
      "      \"category\": \"Technical\"\n",
      "    }\n",
      "  ],\n",
      "  \"references\": [\n",
      "    \"Liu, H., et al. (2019). 'A review of system integration challenges'. IEEE Transactions on Software Engineering. https://doi.org/10.1109/TSE.2018.2878560\",\n",
      "    \"Alharkan, I., et al. (2021). 'Data migration challenges in enterprise systems'. Journal of Systems and Software. https://doi.org/10.1016/j.jss.2021.111275\",\n",
      "    \"Yasui, T., et al. (2020). 'Scalability issues in cloud-based CRM systems'. International Journal of Cloud Computing. https://doi.org/10.1504/IJCC.2020.10024836\",\n",
      "    \"Bada, A., et al. (2019). 'Security vulnerabilities in CRM systems'. Journal of Cybersecurity. https://doi.org/10.1093/cybsec/tyz009\",\n",
      "    \"Laplante, P. (2017). 'Technology Obsolescence and System Maintenance'. IEEE Software. https://doi.org/10.1109/MS.2017.2921479\"\n",
      "  ],\n",
      "  \"response_info\": {\n",
      "    \"consumed_tokens\": 1285,\n",
      "    \"total_cost\": 0.0003022,\n",
      "    \"prompt_name\": \"get_risks\",\n",
      "    \"model_name\": \"gpt-4.1-nano\"\n",
      "  }\n",
      "}\n"
     ]
    }
   ],
   "execution_count": 3
  },
  {
   "metadata": {
    "ExecuteTime": {
     "end_time": "2025-06-07T12:39:43.211988Z",
     "start_time": "2025-06-07T12:39:41.693227Z"
    }
   },
   "cell_type": "code",
   "source": [
    "from riskgpt.chains import check_definition_chain\n",
    "from riskgpt.models.schemas import DefinitionCheckRequest\n",
    "\n",
    "check_request = DefinitionCheckRequest(\n",
    "    project_id=\"demo\",\n",
    "    risk_description=\"Staff may not adopt the new CRM system effectively.\",\n",
    "    domain_knowledge=\"The company operates in the B2B market.\",\n",
    "    language=\"en\"\n",
    ")\n",
    "\n",
    "check_response = check_definition_chain(check_request)\n",
    "print(check_response.model_dump_json(indent=2))"
   ],
   "id": "b39613e76f93bf1e",
   "outputs": [
    {
     "name": "stdout",
     "output_type": "stream",
     "text": [
      "{\n",
      "  \"revised_description\": \"The cause is staff's insufficient training or resistance to change, leading to ineffective adoption of the new CRM system, which may result in decreased sales efficiency and customer satisfaction.\",\n",
      "  \"rationale\": \"The original risk definition lacked clarity in identifying the specific event, its cause, and the resulting consequence. By explicitly stating that staff's inability to adopt the system effectively (event) is caused by inadequate training or resistance (cause) and leads to negative operational impacts (consequence), the risk is aligned with the event-cause-consequence logic.\",\n",
      "  \"response_info\": {\n",
      "    \"consumed_tokens\": 642,\n",
      "    \"total_cost\": 0.000114,\n",
      "    \"prompt_name\": \"check_definition\",\n",
      "    \"model_name\": \"gpt-4.1-nano\"\n",
      "  }\n",
      "}\n"
     ]
    }
   ],
   "execution_count": 4
  },
  {
   "metadata": {},
   "cell_type": "code",
   "outputs": [],
   "execution_count": null,
   "source": [
    "from riskgpt.chains import get_drivers_chain\n",
    "from riskgpt.models.schemas import DriverRequest\n",
    "\n",
    "driver_request = DriverRequest(\n",
    "    project_id=\"demo\",\n",
    "    risk_description=\"Staff may not adopt the new CRM system effectively.\",\n",
    "    domain_knowledge=\"The company operates in the B2B market.\",\n",
    "    language=\"en\"\n",
    ")\n",
    "\n",
    "driver_response = get_drivers_chain(driver_request)\n",
    "print(driver_response.model_dump_json(indent=2))"
   ],
   "id": "c6d68532094c004f"
  },
  {
   "metadata": {},
   "cell_type": "code",
   "outputs": [],
   "execution_count": null,
   "source": [
    "from riskgpt.chains import get_assessment_chain\n",
    "from riskgpt.models.schemas import AssessmentRequest\n",
    "\n",
    "assessment_request = AssessmentRequest(\n",
    "    project_id=\"demo\",\n",
    "    risk_description=\"Staff may not adopt the new CRM system effectively.\",\n",
    "    domain_knowledge=\"The company operates in the B2B market.\",\n",
    "    language=\"en\"\n",
    ")\n",
    "\n",
    "assessment_response = get_assessment_chain(assessment_request)\n",
    "print(assessment_response.model_dump_json(indent=2))"
   ],
   "id": "48762be89341fe10"
  },
  {
   "metadata": {
    "ExecuteTime": {
     "end_time": "2025-06-07T12:37:49.976101Z",
     "start_time": "2025-06-07T12:37:45.941375Z"
    }
   },
   "cell_type": "code",
   "source": [
    "from riskgpt.chains import get_mitigations_chain\n",
    "from riskgpt.models.schemas import MitigationRequest\n",
    "\n",
    "mitigation_request = MitigationRequest(\n",
    "    project_id=\"demo\",\n",
    "    risk_description=\"Staff may not adopt the new CRM system effectively.\",\n",
    "    drivers=[\"Lack of training\", \"Insufficient time for adoption\"],\n",
    "    domain_knowledge=\"The company operates in the B2B market.\",\n",
    "    language=\"en\"\n",
    ")\n",
    "\n",
    "mitigation_response = get_mitigations_chain(mitigation_request)\n",
    "print(mitigation_response.model_dump_json(indent=2))"
   ],
   "id": "74fb1716eda28cf1",
   "outputs": [
    {
     "name": "stderr",
     "output_type": "stream",
     "text": [
      "/Users/thomas/PycharmProjects/projectrm/riskgpt/riskgpt/utils/memory_factory.py:31: LangChainDeprecationWarning: Please see the migration guide at: https://python.langchain.com/docs/versions/migrating_memory/\n",
      "  return ConversationBufferMemory(return_messages=True)\n"
     ]
    },
    {
     "name": "stdout",
     "output_type": "stream",
     "text": [
      "{\n",
      "  \"mitigations\": [\n",
      "    \"Implement comprehensive training programs with hands-on sessions and ongoing support.\",\n",
      "    \"Allocate dedicated time within work schedules for staff to engage with the new CRM system.\",\n",
      "    \"Develop clear onboarding materials and user guides to facilitate self-paced learning.\",\n",
      "    \"Assign super-users or champions to assist colleagues during the adoption phase.\",\n",
      "    \"Schedule phased rollouts to allow incremental learning and reduce disruption.\"\n",
      "  ],\n",
      "  \"references\": [\n",
      "    \"Davis, F. D. (1989). Perceived usefulness, perceived ease of use, and user acceptance of information technology. MIS quarterly, 13(3), 319-340. https://doi.org/10.2307/249008\"\n",
      "  ],\n",
      "  \"response_info\": {\n",
      "    \"consumed_tokens\": 796,\n",
      "    \"total_cost\": 0.00013930000000000002,\n",
      "    \"prompt_name\": \"get_mitigations\",\n",
      "    \"model_name\": \"gpt-4.1-nano\"\n",
      "  }\n",
      "}\n"
     ]
    }
   ],
   "execution_count": 1
  },
  {
   "metadata": {
    "ExecuteTime": {
     "end_time": "2025-06-07T12:40:29.205342Z",
     "start_time": "2025-06-07T12:40:26.934917Z"
    }
   },
   "cell_type": "code",
   "source": [
    "from riskgpt.chains import prioritize_risks_chain\n",
    "from riskgpt.models.schemas import PrioritizationRequest\n",
    "\n",
    "priority_request = PrioritizationRequest(\n",
    "    project_id=\"demo\",\n",
    "    risks=[r.description for r in risk_response.risks],\n",
    "    language=\"en\"\n",
    ")\n",
    "\n",
    "priority_response = prioritize_risks_chain(priority_request)\n",
    "print(priority_response.model_dump_json(indent=2))\n"
   ],
   "id": "1d49cb14c706114d",
   "outputs": [
    {
     "name": "stdout",
     "output_type": "stream",
     "text": [
      "{\n",
      "  \"prioritized_risks\": [\n",
      "    \"The CRM system has unpatched security flaws\",\n",
      "    \"Event: The new CRM system fails to integrate with existing IT infrastructure\",\n",
      "    \"Event: Data migration from legacy systems introduces errors\",\n",
      "    \"Event: The CRM system cannot handle increasing data volumes or user loads\",\n",
      "    \"Event: The CRM technology becomes outdated\"\n",
      "  ],\n",
      "  \"rationale\": \"Security vulnerabilities pose immediate and severe risks due to potential data breaches and compliance issues. Integration failures and data migration errors can cause significant operational disruptions, impacting business continuity. Capacity limitations and technological obsolescence threaten long-term system stability and cost management.\",\n",
      "  \"response_info\": {\n",
      "    \"consumed_tokens\": 883,\n",
      "    \"total_cost\": 0.0001432,\n",
      "    \"prompt_name\": \"prioritize_risks\",\n",
      "    \"model_name\": \"gpt-4.1-nano\"\n",
      "  }\n",
      "}\n"
     ]
    }
   ],
   "execution_count": 5
  },
  {
   "metadata": {
    "ExecuteTime": {
     "end_time": "2025-06-07T12:41:51.339108Z",
     "start_time": "2025-06-07T12:41:46.705332Z"
    }
   },
   "cell_type": "code",
   "source": [
    "from riskgpt.chains import cost_benefit_chain\n",
    "from riskgpt.models.schemas import CostBenefitRequest\n",
    "\n",
    "cb_request = CostBenefitRequest(\n",
    "    project_id=\"demo\",\n",
    "    risk_description=\"Staff may not adopt the new CRM system effectively.\",\n",
    "    mitigations=mitigation_response.mitigations,\n",
    "    language=\"en\"\n",
    ")\n",
    "\n",
    "cb_response = cost_benefit_chain(cb_request)\n",
    "print(cb_response.model_dump_json(indent=2))\n"
   ],
   "id": "98065c8379c46e9f",
   "outputs": [
    {
     "name": "stdout",
     "output_type": "stream",
     "text": [
      "{\n",
      "  \"analyses\": [\n",
      "    {\n",
      "      \"mitigation\": \"Implement comprehensive training programs with hands-on sessions and ongoing support.\",\n",
      "      \"cost\": \"High initial investment in training materials, trainers, and time commitment.\",\n",
      "      \"benefit\": \"Increases user proficiency, reduces resistance, and accelerates adoption.\"\n",
      "    },\n",
      "    {\n",
      "      \"mitigation\": \"Allocate dedicated time within work schedules for staff to engage with the new CRM system.\",\n",
      "      \"cost\": \"Potential short-term productivity loss due to reallocation of work hours.\",\n",
      "      \"benefit\": \"Facilitates smoother transition, enhances user confidence, and improves long-term efficiency.\"\n",
      "    },\n",
      "    {\n",
      "      \"mitigation\": \"Develop clear onboarding materials and user guides to facilitate self-paced learning.\",\n",
      "      \"cost\": \"Moderate effort in creating comprehensive and accessible documentation.\",\n",
      "      \"benefit\": \"Empowers staff to learn independently, reduces support burden, and promotes consistent usage.\"\n",
      "    },\n",
      "    {\n",
      "      \"mitigation\": \"Assign super-users or champions to assist colleagues during the adoption phase.\",\n",
      "      \"cost\": \"Additional resource allocation for training and coordination of super-users.\",\n",
      "      \"benefit\": \"Provides peer support, accelerates troubleshooting, and fosters a culture of collaboration.\"\n",
      "    },\n",
      "    {\n",
      "      \"mitigation\": \"Schedule phased rollouts to allow incremental learning and reduce disruption.\",\n",
      "      \"cost\": \"Complex planning and potential temporary fragmentation of system usage.\",\n",
      "      \"benefit\": \"Mitigates risk of widespread failure, allows feedback incorporation, and improves overall adoption success.\"\n",
      "    }\n",
      "  ],\n",
      "  \"references\": null,\n",
      "  \"response_info\": {\n",
      "    \"consumed_tokens\": 1133,\n",
      "    \"total_cost\": 0.0002246,\n",
      "    \"prompt_name\": \"cost_benefit\",\n",
      "    \"model_name\": \"gpt-4.1-nano\"\n",
      "  }\n",
      "}\n"
     ]
    }
   ],
   "execution_count": 6
  },
  {
   "metadata": {
    "ExecuteTime": {
     "end_time": "2025-06-07T12:42:33.577917Z",
     "start_time": "2025-06-07T12:42:32.034153Z"
    }
   },
   "cell_type": "code",
   "source": [
    "from riskgpt.chains import get_monitoring_chain\n",
    "from riskgpt.models.schemas import MonitoringRequest\n",
    "\n",
    "monitoring_request = MonitoringRequest(\n",
    "    project_id=\"demo\",\n",
    "    risk_description=\"Staff may not adopt the new CRM system effectively.\",\n",
    "    language=\"en\"\n",
    ")\n",
    "\n",
    "monitoring_response = get_monitoring_chain(monitoring_request)\n",
    "print(monitoring_response.model_dump_json(indent=2))\n"
   ],
   "id": "350760f437c31f4e",
   "outputs": [
    {
     "name": "stdout",
     "output_type": "stream",
     "text": [
      "{\n",
      "  \"indicators\": [\n",
      "    \"Low usage rates of the CRM system among staff\",\n",
      "    \"Increase in support tickets or helpdesk queries related to the CRM\",\n",
      "    \"Delayed or incomplete data input in the CRM\",\n",
      "    \"Negative feedback or surveys from staff regarding CRM usability\",\n",
      "    \"Reduced engagement in CRM-related training sessions\",\n",
      "    \"High turnover or absenteeism in teams heavily reliant on CRM\"\n",
      "  ],\n",
      "  \"references\": null,\n",
      "  \"response_info\": {\n",
      "    \"consumed_tokens\": 702,\n",
      "    \"total_cost\": 0.0001128,\n",
      "    \"prompt_name\": \"get_monitoring\",\n",
      "    \"model_name\": \"gpt-4.1-nano\"\n",
      "  }\n",
      "}\n"
     ]
    }
   ],
   "execution_count": 7
  },
  {
   "metadata": {
    "ExecuteTime": {
     "end_time": "2025-06-07T12:42:48.228954Z",
     "start_time": "2025-06-07T12:42:46.284579Z"
    }
   },
   "cell_type": "code",
   "source": [
    "from riskgpt.chains import get_opportunities_chain\n",
    "from riskgpt.models.schemas import OpportunityRequest\n",
    "\n",
    "opportunity_request = OpportunityRequest(\n",
    "    project_id=\"demo\",\n",
    "    risks=[r.description for r in risk_response.risks],\n",
    "    language=\"en\"\n",
    ")\n",
    "\n",
    "opportunity_response = get_opportunities_chain(opportunity_request)\n",
    "print(opportunity_response.model_dump_json(indent=2))\n"
   ],
   "id": "f9a8eff0e0782dba",
   "outputs": [
    {
     "name": "stdout",
     "output_type": "stream",
     "text": [
      "{\n",
      "  \"opportunities\": [\n",
      "    \"Successful integration may streamline operations and improve data sharing.\",\n",
      "    \"Accurate data migration enhances decision-making and operational efficiency.\",\n",
      "    \"Scaling infrastructure can lead to improved system performance and user satisfaction.\",\n",
      "    \"Addressing security flaws proactively can strengthen data protection and compliance.\",\n",
      "    \"Modernising CRM technology can reduce maintenance costs and improve supportability.\"\n",
      "  ],\n",
      "  \"references\": null,\n",
      "  \"response_info\": {\n",
      "    \"consumed_tokens\": 831,\n",
      "    \"total_cost\": 0.0001227,\n",
      "    \"prompt_name\": \"get_opportunities\",\n",
      "    \"model_name\": \"gpt-4.1-nano\"\n",
      "  }\n",
      "}\n"
     ]
    }
   ],
   "execution_count": 8
  },
  {
   "metadata": {
    "ExecuteTime": {
     "end_time": "2025-06-07T12:42:58.011470Z",
     "start_time": "2025-06-07T12:42:56.222043Z"
    }
   },
   "cell_type": "code",
   "source": [
    "from riskgpt.chains import communicate_risks_chain\n",
    "from riskgpt.models.schemas import CommunicationRequest\n",
    "\n",
    "communication_request = CommunicationRequest(\n",
    "    project_id=\"demo\",\n",
    "    summary=\"Summary of CRM project risks and mitigations.\",\n",
    "    language=\"en\"\n",
    ")\n",
    "\n",
    "communication_response = communicate_risks_chain(communication_request)\n",
    "print(communication_response.model_dump_json(indent=2))\n"
   ]
  },
  {
   "cell_type": "code",
   "metadata": {},
   "execution_count": null,
   "outputs": [],
   "source": [
    "from riskgpt.chains import bias_check_chain\n",
    "from riskgpt.models.schemas import BiasCheckRequest\n",
    "\n",
    "bias_request = BiasCheckRequest(\n",
    "    risk_description=\"Staff may not adopt the new CRM system effectively.\",\n",
    "    language=\"en\"\n",
    ")\n",
    "\n",
    "bias_response = bias_check_chain(bias_request)\n",
    "print(bias_response.model_dump_json(indent=2))\n"
   ]
  },
  {
   "cell_type": "code",
   "metadata": {},
   "execution_count": 9,
   "outputs": [
    {
     "name": "stdout",
     "output_type": "stream",
     "text": [
      "{\n",
      "  \"report\": \"Key Risks in CRM Project:\\n1. Data Security Breaches: Implement robust encryption and access controls.\\n2. Data Migration Failures: Conduct thorough testing and phased migration.\\n3. User Adoption Resistance: Provide comprehensive training and stakeholder engagement.\\n4. Integration Challenges: Ensure compatibility with existing systems through detailed planning.\\n5. Scope Creep: Define clear project scope with change management procedures.\\nMitigation strategies focus on proactive planning, stakeholder communication, and rigorous testing to ensure project success.\",\n",
      "  \"response_info\": {\n",
      "    \"consumed_tokens\": 598,\n",
      "    \"total_cost\": 0.00009219999999999999,\n",
      "    \"prompt_name\": \"communicate_risks\",\n",
      "    \"model_name\": \"gpt-4.1-nano\"\n",
      "  }\n",
      "}\n"
     ]
    }
   ],
   "source": [
    "from riskgpt.chains import get_correlation_tags_chain\n",
    "from riskgpt.models.schemas import CorrelationTagRequest\n",
    "\n",
    "tag_request = CorrelationTagRequest(\n",
    "    project_description=\"CRM rollout\",\n",
    "    risk_titles=[r.title for r in risk_response.risks],\n",
    "    known_drivers=driver_response.drivers,\n",
    "    domain_knowledge=\"The company operates in the B2B market.\",\n",
    "    language=\"en\"\n",
    ")\n",
    "\n",
    "tag_response = get_correlation_tags_chain(tag_request)\n",
    "print(tag_response.model_dump_json(indent=2))\n"
   ],
   "id": "1c86b8deede5e434"
  },
  {
   "cell_type": "code",
   "metadata": {},
   "execution_count": null,
   "outputs": [],
   "source": [
    "from riskgpt.workflows import prepare_presentation_output\n",
    "from riskgpt.models.schemas import PresentationRequest\n",
    "\n",
    "presentation_request = PresentationRequest(\n",
    "    project_id=\"demo\",\n",
    "    project_description=\"Introduce a new CRM system\",\n",
    "    audience=\"executive\",\n",
    "    focus_areas=[\"Technical\"],\n",
    "    language=\"en\"\n",
    ")\n",
    "\n",
    "presentation_response = prepare_presentation_output(presentation_request)\n",
    "print(presentation_response.model_dump_json(indent=2))\n"
   ]
  }
 ],
 "metadata": {
  "kernelspec": {
   "display_name": "Python 3",
   "language": "python",
   "name": "python3"
  },
  "language_info": {
   "name": "python",
   "version": "3.12"
  }
 },
 "nbformat": 4,
 "nbformat_minor": 5
}
