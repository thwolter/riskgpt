{
 "cells": [
  {
   "cell_type": "markdown",
   "id": "7ba7013550016d89",
   "metadata": {},
   "source": [
    "# RiskGPT Playground\n",
    "This notebook demonstrates basic usage of the `riskgpt` package."
   ]
  },
  {
   "cell_type": "code",
   "execution_count": 2,
   "id": "a621689fc2fdf84b",
   "metadata": {
    "ExecuteTime": {
     "end_time": "2025-06-09T10:56:49.598250Z",
     "start_time": "2025-06-09T10:56:49.501786Z"
    }
   },
   "outputs": [
    {
     "data": {
      "text/plain": [
       "<Logger riskgpt (INFO)>"
      ]
     },
     "execution_count": 2,
     "metadata": {},
     "output_type": "execute_result"
    }
   ],
   "source": [
    "import os\n",
    "\n",
    "from riskgpt import configure_logging\n",
    "from riskgpt.models.schemas import AudienceEnum, BusinessContext\n",
    "\n",
    "configure_logging()"
   ]
  },
  {
   "cell_type": "code",
   "execution_count": 3,
   "id": "f133fba063dbe95",
   "metadata": {
    "ExecuteTime": {
     "end_time": "2025-06-09T10:56:57.100875Z",
     "start_time": "2025-06-09T10:56:56.169326Z"
    }
   },
   "outputs": [
    {
     "name": "stderr",
     "output_type": "stream",
     "text": [
      "2025-06-09 12:56:56,712 - riskgpt - WARNING - pybreaker not available, circuit breaker will not function\n",
      "/Users/thomas/PycharmProjects/projectrm/riskgpt/riskgpt/utils/memory_factory.py:33: LangChainDeprecationWarning: Please see the migration guide at: https://python.langchain.com/docs/versions/migrating_memory/\n",
      "  return ConversationBufferMemory(return_messages=True)\n"
     ]
    },
    {
     "ename": "AttributeError",
     "evalue": "'CategoryRequest' object has no attribute 'domain_knowledge'",
     "output_type": "error",
     "traceback": [
      "\u001b[31m---------------------------------------------------------------------------\u001b[39m",
      "\u001b[31mAttributeError\u001b[39m                            Traceback (most recent call last)",
      "\u001b[36mCell\u001b[39m\u001b[36m \u001b[39m\u001b[32mIn[3]\u001b[39m\u001b[32m, line 19\u001b[39m\n\u001b[32m      5\u001b[39m business_context = BusinessContext(\n\u001b[32m      6\u001b[39m     project_id=\u001b[33m\"\u001b[39m\u001b[33mdemo\u001b[39m\u001b[33m\"\u001b[39m,\n\u001b[32m      7\u001b[39m     project_description=\u001b[33m\"\u001b[39m\u001b[33mAn IT project to introduce a new CRM system.\u001b[39m\u001b[33m\"\u001b[39m,\n\u001b[32m   (...)\u001b[39m\u001b[32m     11\u001b[39m     language=\u001b[33m\"\u001b[39m\u001b[33men\u001b[39m\u001b[33m\"\u001b[39m\n\u001b[32m     12\u001b[39m )\n\u001b[32m     14\u001b[39m request = CategoryRequest(\n\u001b[32m     15\u001b[39m     business_context=business_context,\n\u001b[32m     16\u001b[39m     existing_categories=[\u001b[33m\"\u001b[39m\u001b[33mTechnical\u001b[39m\u001b[33m\"\u001b[39m]\n\u001b[32m     17\u001b[39m )\n\u001b[32m---> \u001b[39m\u001b[32m19\u001b[39m response = \u001b[43mget_categories_chain\u001b[49m\u001b[43m(\u001b[49m\u001b[43mrequest\u001b[49m\u001b[43m)\u001b[49m\n\u001b[32m     20\u001b[39m \u001b[38;5;28mprint\u001b[39m(response.model_dump_json(indent=\u001b[32m2\u001b[39m))\n",
      "\u001b[36mFile \u001b[39m\u001b[32m~/PycharmProjects/projectrm/riskgpt/riskgpt/chains/get_categories.py:27\u001b[39m, in \u001b[36mget_categories_chain\u001b[39m\u001b[34m(request)\u001b[39m\n\u001b[32m     17\u001b[39m chain = BaseChain(\n\u001b[32m     18\u001b[39m     prompt_template=prompt_data[\u001b[33m\"\u001b[39m\u001b[33mtemplate\u001b[39m\u001b[33m\"\u001b[39m],\n\u001b[32m     19\u001b[39m     parser=parser,\n\u001b[32m     20\u001b[39m     settings=settings,\n\u001b[32m     21\u001b[39m     prompt_name=\u001b[33m\"\u001b[39m\u001b[33mget_categories\u001b[39m\u001b[33m\"\u001b[39m,\n\u001b[32m     22\u001b[39m )\n\u001b[32m     24\u001b[39m inputs = request.model_dump()\n\u001b[32m     25\u001b[39m inputs[\u001b[33m\"\u001b[39m\u001b[33mdomain_section\u001b[39m\u001b[33m\"\u001b[39m] = (\n\u001b[32m     26\u001b[39m     \u001b[33mf\u001b[39m\u001b[33m\"\u001b[39m\u001b[33mDomain knowledge: \u001b[39m\u001b[38;5;132;01m{\u001b[39;00mrequest.domain_knowledge\u001b[38;5;132;01m}\u001b[39;00m\u001b[33m\"\u001b[39m\n\u001b[32m---> \u001b[39m\u001b[32m27\u001b[39m     \u001b[38;5;28;01mif\u001b[39;00m \u001b[43mrequest\u001b[49m\u001b[43m.\u001b[49m\u001b[43mdomain_knowledge\u001b[49m\n\u001b[32m     28\u001b[39m     \u001b[38;5;28;01melse\u001b[39;00m \u001b[33m\"\u001b[39m\u001b[33m\"\u001b[39m\n\u001b[32m     29\u001b[39m )\n\u001b[32m     30\u001b[39m inputs[\u001b[33m\"\u001b[39m\u001b[33mexisting_categories_section\u001b[39m\u001b[33m\"\u001b[39m] = (\n\u001b[32m     31\u001b[39m     \u001b[33mf\u001b[39m\u001b[33m\"\u001b[39m\u001b[33mExisting categories: \u001b[39m\u001b[38;5;132;01m{\u001b[39;00m\u001b[33m'\u001b[39m\u001b[33m, \u001b[39m\u001b[33m'\u001b[39m.join(request.existing_categories)\u001b[38;5;132;01m}\u001b[39;00m\u001b[33m\"\u001b[39m\n\u001b[32m     32\u001b[39m     \u001b[38;5;28;01mif\u001b[39;00m request.existing_categories\n\u001b[32m     33\u001b[39m     \u001b[38;5;28;01melse\u001b[39;00m \u001b[33m\"\u001b[39m\u001b[33m\"\u001b[39m\n\u001b[32m     34\u001b[39m )\n\u001b[32m     36\u001b[39m \u001b[38;5;28;01mreturn\u001b[39;00m chain.invoke(inputs)\n",
      "\u001b[36mFile \u001b[39m\u001b[32m~/PycharmProjects/projectrm/riskgpt/.venv/lib/python3.12/site-packages/pydantic/main.py:991\u001b[39m, in \u001b[36mBaseModel.__getattr__\u001b[39m\u001b[34m(self, item)\u001b[39m\n\u001b[32m    988\u001b[39m     \u001b[38;5;28;01mreturn\u001b[39;00m \u001b[38;5;28msuper\u001b[39m().\u001b[34m__getattribute__\u001b[39m(item)  \u001b[38;5;66;03m# Raises AttributeError if appropriate\u001b[39;00m\n\u001b[32m    989\u001b[39m \u001b[38;5;28;01melse\u001b[39;00m:\n\u001b[32m    990\u001b[39m     \u001b[38;5;66;03m# this is the current error\u001b[39;00m\n\u001b[32m--> \u001b[39m\u001b[32m991\u001b[39m     \u001b[38;5;28;01mraise\u001b[39;00m \u001b[38;5;167;01mAttributeError\u001b[39;00m(\u001b[33mf\u001b[39m\u001b[33m'\u001b[39m\u001b[38;5;132;01m{\u001b[39;00m\u001b[38;5;28mtype\u001b[39m(\u001b[38;5;28mself\u001b[39m).\u001b[34m__name__\u001b[39m\u001b[38;5;132;01m!r}\u001b[39;00m\u001b[33m object has no attribute \u001b[39m\u001b[38;5;132;01m{\u001b[39;00mitem\u001b[38;5;132;01m!r}\u001b[39;00m\u001b[33m'\u001b[39m)\n",
      "\u001b[31mAttributeError\u001b[39m: 'CategoryRequest' object has no attribute 'domain_knowledge'"
     ]
    }
   ],
   "source": [
    "from riskgpt.chains import get_categories_chain\n",
    "from riskgpt.models.schemas import CategoryRequest\n",
    "\n",
    "# Create a BusinessContext object that can be reused\n",
    "business_context = BusinessContext(\n",
    "    project_id=\"demo\",\n",
    "    project_description=\"An IT project to introduce a new CRM system.\",\n",
    "    domain_knowledge=\"The company operates in the B2B market.\",\n",
    "    business_area=\"IT Department\",\n",
    "    industry_sector=\"Technology\",\n",
    "    language=\"en\"\n",
    ")\n",
    "\n",
    "request = CategoryRequest(\n",
    "    business_context=business_context,\n",
    "    existing_categories=[\"Technical\"]\n",
    ")\n",
    "\n",
    "response = get_categories_chain(request)\n",
    "print(response.model_dump_json(indent=2))"
   ]
  },
  {
   "cell_type": "code",
   "execution_count": null,
   "id": "ad137d389431e142",
   "metadata": {},
   "outputs": [],
   "source": [
    "from riskgpt.chains import get_risks_chain\n",
    "from riskgpt.models.schemas import RiskRequest\n",
    "\n",
    "risk_request = RiskRequest(\n",
    "    business_context=business_context,\n",
    "    category=\"Technical\",\n",
    "    max_risks=5\n",
    ")\n",
    "\n",
    "risk_response = get_risks_chain(risk_request)\n",
    "print(risk_response.model_dump_json(indent=2))"
   ]
  },
  {
   "cell_type": "code",
   "execution_count": null,
   "id": "b39613e76f93bf1e",
   "metadata": {},
   "outputs": [],
   "source": [
    "from riskgpt.chains import check_definition_chain\n",
    "from riskgpt.models.schemas import DefinitionCheckRequest\n",
    "\n",
    "check_request = DefinitionCheckRequest(\n",
    "    business_context=business_context,\n",
    "    risk_description=\"Staff may not adopt the new CRM system effectively.\"\n",
    ")\n",
    "\n",
    "check_response = check_definition_chain(check_request)\n",
    "print(check_response.model_dump_json(indent=2))"
   ]
  },
  {
   "cell_type": "code",
   "execution_count": null,
   "id": "c6d68532094c004f",
   "metadata": {},
   "outputs": [],
   "source": [
    "from riskgpt.chains import get_drivers_chain\n",
    "from riskgpt.models.schemas import DriverRequest\n",
    "\n",
    "driver_request = DriverRequest(\n",
    "    business_context=business_context,\n",
    "    risk_description=\"Staff may not adopt the new CRM system effectively.\"\n",
    ")\n",
    "\n",
    "driver_response = get_drivers_chain(driver_request)\n",
    "print(driver_response.model_dump_json(indent=2))"
   ]
  },
  {
   "cell_type": "code",
   "execution_count": null,
   "id": "48762be89341fe10",
   "metadata": {},
   "outputs": [],
   "source": [
    "from riskgpt.chains import get_assessment_chain\n",
    "from riskgpt.models.schemas import AssessmentRequest\n",
    "\n",
    "assessment_request = AssessmentRequest(\n",
    "    business_context=business_context,\n",
    "    risk_description=\"Staff may not adopt the new CRM system effectively.\"\n",
    ")\n",
    "\n",
    "assessment_response = get_assessment_chain(assessment_request)\n",
    "print(assessment_response.model_dump_json(indent=2))"
   ]
  },
  {
   "cell_type": "code",
   "execution_count": null,
   "id": "74fb1716eda28cf1",
   "metadata": {},
   "outputs": [],
   "source": [
    "from riskgpt.chains import get_mitigations_chain\n",
    "from riskgpt.models.schemas import MitigationRequest\n",
    "\n",
    "mitigation_request = MitigationRequest(\n",
    "    business_context=business_context,\n",
    "    risk_description=\"Staff may not adopt the new CRM system effectively.\",\n",
    "    drivers=[\"Lack of training\", \"Insufficient time for adoption\"]\n",
    ")\n",
    "\n",
    "mitigation_response = get_mitigations_chain(mitigation_request)\n",
    "print(mitigation_response.model_dump_json(indent=2))"
   ]
  },
  {
   "cell_type": "code",
   "execution_count": null,
   "id": "1d49cb14c706114d",
   "metadata": {},
   "outputs": [],
   "source": [
    "from riskgpt.chains import prioritize_risks_chain\n",
    "from riskgpt.models.schemas import PrioritizationRequest\n",
    "\n",
    "priority_request = PrioritizationRequest(\n",
    "    business_context=business_context,\n",
    "    risks=[r.description for r in risk_response.risks]\n",
    ")\n",
    "\n",
    "priority_response = prioritize_risks_chain(priority_request)\n",
    "print(priority_response.model_dump_json(indent=2))\n"
   ]
  },
  {
   "cell_type": "code",
   "execution_count": null,
   "id": "98065c8379c46e9f",
   "metadata": {},
   "outputs": [],
   "source": [
    "from riskgpt.chains import cost_benefit_chain\n",
    "from riskgpt.models.schemas import CostBenefitRequest\n",
    "\n",
    "cb_request = CostBenefitRequest(\n",
    "    business_context=business_context,\n",
    "    risk_description=\"Staff may not adopt the new CRM system effectively.\",\n",
    "    mitigations=mitigation_response.mitigations\n",
    ")\n",
    "\n",
    "cb_response = cost_benefit_chain(cb_request)\n",
    "print(cb_response.model_dump_json(indent=2))\n"
   ]
  },
  {
   "cell_type": "code",
   "execution_count": null,
   "id": "350760f437c31f4e",
   "metadata": {},
   "outputs": [],
   "source": [
    "from riskgpt.chains import get_monitoring_chain\n",
    "from riskgpt.models.schemas import MonitoringRequest\n",
    "\n",
    "monitoring_request = MonitoringRequest(\n",
    "    business_context=business_context,\n",
    "    risk_description=\"Staff may not adopt the new CRM system effectively.\"\n",
    ")\n",
    "\n",
    "monitoring_response = get_monitoring_chain(monitoring_request)\n",
    "print(monitoring_response.model_dump_json(indent=2))\n"
   ]
  },
  {
   "cell_type": "code",
   "execution_count": null,
   "id": "f9a8eff0e0782dba",
   "metadata": {},
   "outputs": [],
   "source": [
    "from riskgpt.chains import get_opportunities_chain\n",
    "from riskgpt.models.schemas import OpportunityRequest\n",
    "\n",
    "opportunity_request = OpportunityRequest(\n",
    "    business_context=business_context,\n",
    "    risks=[r.description for r in risk_response.risks]\n",
    ")\n",
    "\n",
    "opportunity_response = get_opportunities_chain(opportunity_request)\n",
    "print(opportunity_response.model_dump_json(indent=2))\n"
   ]
  },
  {
   "cell_type": "code",
   "execution_count": null,
   "id": "b9c23d28a76dd03c",
   "metadata": {},
   "outputs": [],
   "source": [
    "from riskgpt.chains import communicate_risks_chain\n",
    "from riskgpt.models.schemas import CommunicationRequest\n",
    "\n",
    "communication_request = CommunicationRequest(\n",
    "    business_context=business_context,\n",
    "    summary=\"Summary of CRM project risks and mitigations.\"\n",
    ")\n",
    "\n",
    "communication_response = communicate_risks_chain(communication_request)\n",
    "print(communication_response.model_dump_json(indent=2))\n"
   ]
  },
  {
   "cell_type": "code",
   "execution_count": null,
   "id": "6066539370ace028",
   "metadata": {},
   "outputs": [],
   "source": [
    "from riskgpt.chains import bias_check_chain\n",
    "from riskgpt.models.schemas import BiasCheckRequest\n",
    "\n",
    "bias_request = BiasCheckRequest(\n",
    "    business_context=business_context,\n",
    "    risk_description=\"Staff may not adopt the new CRM system effectively.\"\n",
    ")\n",
    "\n",
    "bias_response = bias_check_chain(bias_request)\n",
    "print(bias_response.model_dump_json(indent=2))\n"
   ]
  },
  {
   "cell_type": "code",
   "execution_count": null,
   "id": "1c86b8deede5e434",
   "metadata": {},
   "outputs": [],
   "source": [
    "from riskgpt.chains import get_correlation_tags_chain\n",
    "from riskgpt.models.schemas import CorrelationTagRequest\n",
    "\n",
    "tag_request = CorrelationTagRequest(\n",
    "    business_context=business_context,\n",
    "    risk_titles=[r.title for r in risk_response.risks],\n",
    "    known_drivers=driver_response.drivers\n",
    ")\n",
    "\n",
    "tag_response = get_correlation_tags_chain(tag_request)\n",
    "print(tag_response.model_dump_json(indent=2))\n"
   ]
  },
  {
   "cell_type": "code",
   "execution_count": null,
   "id": "48d45c2e6d564115",
   "metadata": {},
   "outputs": [],
   "source": [
    "from riskgpt.models.schemas import PresentationRequest\n",
    "from riskgpt.workflows import prepare_presentation_output\n",
    "\n",
    "presentation_request = PresentationRequest(\n",
    "    business_context=business_context,\n",
    "    audience=AudienceEnum.executive,\n",
    "    focus_areas=[\"Technical\"]\n",
    ")\n",
    "\n",
    "presentation_response = prepare_presentation_output(presentation_request)\n",
    "print(presentation_response.model_dump_json(indent=2))\n"
   ]
  },
  {
   "cell_type": "code",
   "execution_count": null,
   "id": "fb09f56a35f11bef",
   "metadata": {},
   "outputs": [],
   "source": [
    "from riskgpt.models.schemas import PresentationRequest\n",
    "from riskgpt.workflows import prepare_presentation_output\n",
    "\n",
    "presentation_request = PresentationRequest(\n",
    "    business_context=business_context,\n",
    "    audience=AudienceEnum.regulator,\n",
    "    focus_areas=[\"Technical\"]\n",
    ")\n",
    "\n",
    "presentation_response = prepare_presentation_output(presentation_request)\n",
    "print(presentation_response.model_dump_json(indent=2))\n"
   ]
  },
  {
   "cell_type": "markdown",
   "id": "ac6b0cbb4d9d45e2",
   "metadata": {},
   "source": [
    "# External Context Enrichment with Different Search Engines\n",
    "This section demonstrates how to use different search engines for external context enrichment."
   ]
  },
  {
   "cell_type": "code",
   "execution_count": null,
   "id": "9f4ecb234727f58e",
   "metadata": {
    "ExecuteTime": {
     "end_time": "2025-06-08T09:22:50.832606Z",
     "start_time": "2025-06-08T09:22:50.016730Z"
    }
   },
   "outputs": [],
   "source": [
    "from riskgpt.config.settings import RiskGPTSettings\n",
    "from riskgpt.models.schemas import ExternalContextRequest\n",
    "from riskgpt.workflows import external_context_enrichment\n",
    "\n",
    "# Save original search provider\n",
    "original_provider = os.environ.get(\"SEARCH_PROVIDER\")\n",
    "original_include_wiki = os.environ.get(\"INCLUDE_WIKIPEDIA\")\n",
    "\n",
    "# Create a business context for external search\n",
    "search_context = BusinessContext(\n",
    "    project_id=\"search_demo\",\n",
    "    project_description=\"SEFE Energy fiber optic infrastructure in Germany\",\n",
    "    domain_knowledge=\"Critical infrastructure cybersecurity\",\n",
    "    industry_sector=\"Energy\",\n",
    "    language=\"en\"\n",
    ")\n"
   ]
  },
  {
   "cell_type": "markdown",
   "id": "f5e379d221a1ad56",
   "metadata": {},
   "source": "## Using DuckDuckGo (Default)"
  },
  {
   "cell_type": "code",
   "execution_count": null,
   "id": "647453d867611dab",
   "metadata": {},
   "outputs": [],
   "source": [
    "# Set search provider to DuckDuckGo (default)\n",
    "os.environ[\"SEARCH_PROVIDER\"] = \"duckduckgo\"\n",
    "os.environ[\"INCLUDE_WIKIPEDIA\"] = \"false\"\n",
    "\n",
    "ext_request = ExternalContextRequest(\n",
    "    business_context=search_context,\n",
    "    focus_keywords=[\"cyber\"],\n",
    ")\n",
    "\n",
    "print(f\"Using search provider: {RiskGPTSettings().SEARCH_PROVIDER}\")\n",
    "ext_response = external_context_enrichment(ext_request)\n",
    "print(f\"Found {len(ext_response.source_table)} sources\")\n",
    "print(ext_response.model_dump_json(indent=2))\n"
   ]
  },
  {
   "cell_type": "markdown",
   "id": "6323c7b2857c93b",
   "metadata": {},
   "source": "## Using DuckDuckGo with Wikipedia"
  },
  {
   "cell_type": "code",
   "execution_count": null,
   "id": "4091412343110a43",
   "metadata": {},
   "outputs": [],
   "source": [
    "# Set search provider to DuckDuckGo with Wikipedia\n",
    "os.environ[\"SEARCH_PROVIDER\"] = \"duckduckgo\"\n",
    "os.environ[\"INCLUDE_WIKIPEDIA\"] = \"true\"\n",
    "\n",
    "ext_request = ExternalContextRequest(\n",
    "    business_context=search_context,\n",
    "    focus_keywords=[\"cyber\"],\n",
    ")\n",
    "\n",
    "print(f\"Using search provider: {RiskGPTSettings().SEARCH_PROVIDER} with Wikipedia\")\n",
    "ext_response = external_context_enrichment(ext_request)\n",
    "print(f\"Found {len(ext_response.source_table)} sources\")\n",
    "print(ext_response.model_dump_json(indent=2))\n"
   ]
  },
  {
   "cell_type": "markdown",
   "id": "fb2d843c96e36117",
   "metadata": {},
   "source": "## Using Wikipedia Only"
  },
  {
   "cell_type": "code",
   "execution_count": null,
   "id": "798e82168b2634db",
   "metadata": {},
   "outputs": [],
   "source": [
    "# Set search provider to Wikipedia only\n",
    "os.environ[\"SEARCH_PROVIDER\"] = \"wikipedia\"\n",
    "os.environ[\"INCLUDE_WIKIPEDIA\"] = \"false\"  # Not needed when provider is Wikipedia\n",
    "\n",
    "ext_request = ExternalContextRequest(\n",
    "    business_context=search_context,\n",
    "    focus_keywords=[\"cyber\"],\n",
    ")\n",
    "\n",
    "print(f\"Using search provider: {RiskGPTSettings().SEARCH_PROVIDER}\")\n",
    "ext_response = external_context_enrichment(ext_request)\n",
    "print(f\"Found {len(ext_response.source_table)} sources\")\n",
    "print(ext_response.model_dump_json(indent=2))\n"
   ]
  },
  {
   "cell_type": "markdown",
   "id": "f580027625b71f51",
   "metadata": {},
   "source": "## Using Google Custom Search (if configured)"
  },
  {
   "cell_type": "code",
   "execution_count": 1,
   "id": "ae5dbe163e531f77",
   "metadata": {
    "ExecuteTime": {
     "end_time": "2025-06-09T10:56:34.984404Z",
     "start_time": "2025-06-09T10:56:34.876862Z"
    }
   },
   "outputs": [
    {
     "ename": "NameError",
     "evalue": "name 'RiskGPTSettings' is not defined",
     "output_type": "error",
     "traceback": [
      "\u001b[31m---------------------------------------------------------------------------\u001b[39m",
      "\u001b[31mNameError\u001b[39m                                 Traceback (most recent call last)",
      "\u001b[36mCell\u001b[39m\u001b[36m \u001b[39m\u001b[32mIn[1]\u001b[39m\u001b[32m, line 2\u001b[39m\n\u001b[32m      1\u001b[39m \u001b[38;5;66;03m# Check if Google API key and CSE ID are configured\u001b[39;00m\n\u001b[32m----> \u001b[39m\u001b[32m2\u001b[39m settings = \u001b[43mRiskGPTSettings\u001b[49m()\n\u001b[32m      3\u001b[39m \u001b[38;5;28;01mif\u001b[39;00m settings.GOOGLE_API_KEY \u001b[38;5;129;01mand\u001b[39;00m settings.GOOGLE_CSE_ID:\n\u001b[32m      4\u001b[39m     \u001b[38;5;66;03m# Set search provider to Google\u001b[39;00m\n\u001b[32m      5\u001b[39m     os.environ[\u001b[33m\"\u001b[39m\u001b[33mSEARCH_PROVIDER\u001b[39m\u001b[33m\"\u001b[39m] = \u001b[33m\"\u001b[39m\u001b[33mgoogle\u001b[39m\u001b[33m\"\u001b[39m\n",
      "\u001b[31mNameError\u001b[39m: name 'RiskGPTSettings' is not defined"
     ]
    }
   ],
   "source": [
    "# Check if Google API key and CSE ID are configured\n",
    "settings = RiskGPTSettings()\n",
    "if settings.GOOGLE_API_KEY and settings.GOOGLE_CSE_ID:\n",
    "    # Set search provider to Google\n",
    "    os.environ[\"SEARCH_PROVIDER\"] = \"google\"\n",
    "    os.environ[\"INCLUDE_WIKIPEDIA\"] = \"false\"\n",
    "    \n",
    "    ext_request = ExternalContextRequest(\n",
    "        business_context=search_context,\n",
    "        focus_keywords=[\"cyber\"],\n",
    "    )\n",
    "    \n",
    "    print(f\"Using search provider: {RiskGPTSettings().SEARCH_PROVIDER}\")\n",
    "    ext_response = external_context_enrichment(ext_request)\n",
    "    print(f\"Found {len(ext_response.source_table)} sources\")\n",
    "    print(ext_response.model_dump_json(indent=2))\n",
    "    \n",
    "    # Google with Wikipedia\n",
    "    os.environ[\"INCLUDE_WIKIPEDIA\"] = \"true\"\n",
    "    \n",
    "    ext_request = ExternalContextRequest(\n",
    "        business_context=search_context,\n",
    "        focus_keywords=[\"cyber\"],\n",
    "    )\n",
    "    \n",
    "    print(f\"Using search provider: {RiskGPTSettings().SEARCH_PROVIDER} with Wikipedia\")\n",
    "    ext_response = external_context_enrichment(ext_request)\n",
    "    print(f\"Found {len(ext_response.source_table)} sources\")\n",
    "    print(ext_response.model_dump_json(indent=2))\n",
    "else:\n",
    "    print(\"Google Custom Search not configured. Set GOOGLE_API_KEY and GOOGLE_CSE_ID environment variables to use Google search.\")\n"
   ]
  },
  {
   "cell_type": "code",
   "execution_count": null,
   "id": "9e2d19d92a53861e",
   "metadata": {},
   "outputs": [],
   "source": [
    "# Restore original search provider settings\n",
    "if original_provider:\n",
    "    os.environ[\"SEARCH_PROVIDER\"] = original_provider\n",
    "elif \"SEARCH_PROVIDER\" in os.environ:\n",
    "    del os.environ[\"SEARCH_PROVIDER\"]\n",
    "\n",
    "if original_include_wiki:\n",
    "    os.environ[\"INCLUDE_WIKIPEDIA\"] = original_include_wiki\n",
    "elif \"INCLUDE_WIKIPEDIA\" in os.environ:\n",
    "    del os.environ[\"INCLUDE_WIKIPEDIA\"]\n"
   ]
  },
  {
   "cell_type": "code",
   "execution_count": null,
   "id": "f8bfb6a0aa38eb3d",
   "metadata": {},
   "outputs": [],
   "source": [
    "from riskgpt.models.schemas import ContextQualityRequest\n",
    "from riskgpt.workflows import check_context_quality\n",
    "\n",
    "context_quality_request = ContextQualityRequest(\n",
    "    business_context=BusinessContext(\n",
    "        project_id=\"quality_check\",\n",
    "        project_description=\"Introduce a new CRM system\",\n",
    "        domain_knowledge=\"The company operates in the B2B market.\"\n",
    "    ),\n",
    "    project_type=\"IT\"\n",
    ")\n",
    "\n",
    "context_quality_response = check_context_quality(context_quality_request)\n",
    "print(context_quality_response.model_dump_json(indent=2))"
   ]
  }
 ],
 "metadata": {
  "kernelspec": {
   "display_name": "Python 3",
   "language": "python",
   "name": "python3"
  },
  "language_info": {
   "name": "python",
   "version": "3.12"
  }
 },
 "nbformat": 4,
 "nbformat_minor": 5
}
