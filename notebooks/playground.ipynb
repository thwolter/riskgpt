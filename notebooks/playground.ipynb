{
 "cells": [
  {
   "cell_type": "markdown",
   "metadata": {},
   "source": [
    "# RiskGPT Playground\n",
    "This notebook demonstrates basic usage of the `riskgpt` package."
   ],
   "id": "9dc6deb059d6cad6"
  },
  {
   "cell_type": "code",
   "metadata": {
    "ExecuteTime": {
     "end_time": "2025-06-07T12:01:49.661079Z",
     "start_time": "2025-06-07T12:01:49.641194Z"
    }
   },
   "source": [
    "from riskgpt import configure_logging\n",
    "configure_logging()"
   ],
   "id": "b7b0bfdab3fc2db4",
   "outputs": [
    {
     "data": {
      "text/plain": [
       "<Logger riskgpt (INFO)>"
      ]
     },
     "execution_count": 3,
     "metadata": {},
     "output_type": "execute_result"
    }
   ],
   "execution_count": 3
  },
  {
   "cell_type": "code",
   "metadata": {
    "ExecuteTime": {
     "end_time": "2025-06-07T12:01:57.078171Z",
     "start_time": "2025-06-07T12:01:51.949425Z"
    }
   },
   "source": [
    "from riskgpt.chains import get_categories_chain\n",
    "from riskgpt.models.schemas import CategoryRequest\n",
    "\n",
    "request = CategoryRequest(\n",
    "    project_id=\"demo\",\n",
    "    project_description=\"An IT project to introduce a new CRM system.\",\n",
    "    domain_knowledge=\"The company operates in the B2B market.\",\n",
    "    language=\"en\"\n",
    ")\n",
    "\n",
    "response = get_categories_chain(request)\n",
    "print(response.model_dump_json(indent=2))"
   ],
   "id": "57201a3a561f13b5",
   "outputs": [
    {
     "name": "stderr",
     "output_type": "stream",
     "text": [
      "2025-06-07 14:01:57,074 - riskgpt - INFO - Consumed 648 tokens (0.0005 USD) for 'get_categories' using gpt-4.1-mini\n",
      "2025-06-07 14:01:57,074 - riskgpt - INFO - Consumed 648 tokens (0.0005 USD) for 'get_categories' using gpt-4.1-mini\n"
     ]
    },
    {
     "name": "stdout",
     "output_type": "stream",
     "text": [
      "{\n",
      "  \"categories\": [\n",
      "    \"Technical Risk\",\n",
      "    \"Operational Risk\",\n",
      "    \"Financial Risk\",\n",
      "    \"Vendor Risk\",\n",
      "    \"Change Management Risk\",\n",
      "    \"Security Risk\",\n",
      "    \"Compliance Risk\",\n",
      "    \"Stakeholder Risk\",\n",
      "    \"Data Migration Risk\"\n",
      "  ],\n",
      "  \"rationale\": \"Technical Risk involves potential issues with system integration, compatibility, or performance of the new CRM. Operational Risk relates to impacts on business processes and user adoption within the B2B environment. Financial Risk covers budget overruns or unexpected costs. Vendor Risk addresses the reliability and support capabilities of the CRM provider. Change Management Risk concerns resistance from employees and the effectiveness of training. Security Risk includes vulnerabilities in data protection and access controls. Compliance Risk involves adhering to industry regulations applicable to B2B transactions. Stakeholder Risk pertains to alignment and communication among internal and external stakeholders. Data Migration Risk involves challenges in transferring existing customer data accurately and completely into the new system.\",\n",
      "  \"response_info\": {\n",
      "    \"consumed_tokens\": 648,\n",
      "    \"total_cost\": 0.0004944000000000001,\n",
      "    \"prompt_name\": \"get_categories\",\n",
      "    \"model_name\": \"gpt-4.1-mini\"\n",
      "  }\n",
      "}\n"
     ]
    }
   ],
   "execution_count": 4
  },
  {
   "cell_type": "code",
   "execution_count": null,
   "metadata": {},
   "outputs": [],
   "source": [
    "from riskgpt.chains import get_risks_chain\n",
    "from riskgpt.models.schemas import RiskRequest\n",
    "\n",
    "risk_request = RiskRequest(\n",
    "    project_id=\"demo\",\n",
    "    project_description=\"An IT project to introduce a new CRM system.\",\n",
    "    category=\"Technical\",\n",
    "    domain_knowledge=\"The company operates in the B2B market.\",\n",
    "    language=\"en\"\n",
    ")\n",
    "\n",
    "risk_response = get_risks_chain(risk_request)\n",
    "print(risk_response.model_dump_json(indent=2))"
   ],
   "id": "7bce244530763f65"
  },
  {
   "cell_type": "code",
   "execution_count": null,
   "metadata": {},
   "outputs": [],
   "source": [
    "from riskgpt.chains import check_definition_chain\n",
    "from riskgpt.models.schemas import DefinitionCheckRequest\n",
    "\n",
    "check_request = DefinitionCheckRequest(\n",
    "    project_id=\"demo\",\n",
    "    risk_description=\"Staff may not adopt the new CRM system effectively.\",\n",
    "    domain_knowledge=\"The company operates in the B2B market.\",\n",
    "    language=\"en\"\n",
    ")\n",
    "\n",
    "check_response = check_definition_chain(check_request)\n",
    "print(check_response.model_dump_json(indent=2))"
   ],
   "id": "bfbb2f6d92afd000"
  },
  {
   "cell_type": "code",
   "execution_count": null,
   "metadata": {},
   "outputs": [],
   "source": [
    "from riskgpt.chains import get_drivers_chain\n",
    "from riskgpt.models.schemas import DriverRequest\n",
    "\n",
    "driver_request = DriverRequest(\n",
    "    project_id=\"demo\",\n",
    "    risk_description=\"Staff may not adopt the new CRM system effectively.\",\n",
    "    domain_knowledge=\"The company operates in the B2B market.\",\n",
    "    language=\"en\"\n",
    ")\n",
    "\n",
    "driver_response = get_drivers_chain(driver_request)\n",
    "print(driver_response.model_dump_json(indent=2))"
   ],
   "id": "e0e5d6d304b8410a"
  },
  {
   "cell_type": "code",
   "execution_count": null,
   "metadata": {},
   "outputs": [],
   "source": [
    "from riskgpt.chains import get_impact_chain\n",
    "from riskgpt.models.schemas import ImpactRequest\n",
    "\n",
    "impact_request = ImpactRequest(\n",
    "    project_id=\"demo\",\n",
    "    risk_description=\"Staff may not adopt the new CRM system effectively.\",\n",
    "    domain_knowledge=\"The company operates in the B2B market.\",\n",
    "    language=\"en\"\n",
    ")\n",
    "\n",
    "impact_response = get_impact_chain(impact_request)\n",
    "print(impact_response.model_dump_json(indent=2))"
   ],
   "id": "ebc8be951ae32e75"
  },
  {
   "cell_type": "code",
   "execution_count": null,
   "metadata": {},
   "outputs": [],
   "source": [
    "from riskgpt.chains import get_mitigations_chain\n",
    "from riskgpt.models.schemas import MitigationRequest\n",
    "\n",
    "mitigation_request = MitigationRequest(\n",
    "    project_id=\"demo\",\n",
    "    risk_description=\"Staff may not adopt the new CRM system effectively.\",\n",
    "    drivers=[\"Lack of training\", \"Insufficient time for adoption\"],\n",
    "    domain_knowledge=\"The company operates in the B2B market.\",\n",
    "    language=\"en\"\n",
    ")\n",
    "\n",
    "mitigation_response = get_mitigations_chain(mitigation_request)\n",
    "print(mitigation_response.model_dump_json(indent=2))"
   ],
   "id": "800316db3d660c92"
  }
 ],
 "metadata": {
  "kernelspec": {
   "display_name": "Python 3",
   "language": "python",
   "name": "python3"
  },
  "language_info": {
   "name": "python",
   "version": "3.12"
  }
 },
 "nbformat": 4,
 "nbformat_minor": 5
}
