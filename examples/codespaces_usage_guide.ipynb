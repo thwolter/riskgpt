{
 "cells": [
  {
   "metadata": {},
   "cell_type": "markdown",
   "source": [
    "# Using RiskGPT in GitHub Codespaces\n",
    "\n",
    "This notebook demonstrates how to use RiskGPT in GitHub Codespaces by installing it directly from the GitHub repository and setting up the OpenAI API key.\n"
   ],
   "id": "8b84a5ee8ed0433b"
  },
  {
   "metadata": {},
   "cell_type": "markdown",
   "source": [
    "## 1. Install RiskGPT from GitHub\n",
    "\n",
    "Since RiskGPT is not available on PyPI, we'll install it directly from the GitHub repository. In GitHub Codespaces, Python 3.12 should already be available, so we can proceed directly to installing the package.\n"
   ],
   "id": "5e7bc468c47fee0f"
  },
  {
   "metadata": {},
   "cell_type": "code",
   "outputs": [],
   "execution_count": null,
   "source": [
    "# Verify Python version\n",
    "!python --version\n",
    "\n",
    "# If Python 3.12+ is not available, you may need to set up a devcontainer with the appropriate Python version\n",
    "# See: https://docs.github.com/en/codespaces/setting-up-your-project-for-codespaces/adding-a-dev-container-configuration/introduction-to-dev-containers\n"
   ],
   "id": "6cb5c0b854825a10"
  },
  {
   "metadata": {},
   "cell_type": "code",
   "outputs": [],
   "execution_count": null,
   "source": [
    "# Install RiskGPT directly from GitHub\n",
    "!pip install git+https://github.com/thwolter/riskgpt.git\n",
    "\n",
    "# Alternative: If you have access to the wheel file\n",
    "# !pip install /path/to/dist/riskgpt-0.1.0-py3-none-any.whl\n"
   ],
   "id": "dbca22070a9cef74"
  },
  {
   "metadata": {},
   "cell_type": "markdown",
   "source": [
    "## 2. Set up the OpenAI API Key\n",
    "\n",
    "There are two recommended ways to set up your OpenAI API key in GitHub Codespaces:\n",
    "\n",
    "### Option 1: Using Codespaces Secrets (Recommended)\n",
    "\n",
    "For better security, you can add your OpenAI API key as a Codespaces secret:\n",
    "\n",
    "1. Go to your GitHub repository\n",
    "2. Navigate to Settings > Secrets and variables > Codespaces\n",
    "3. Click \"New repository secret\"\n",
    "4. Name: `OPENAI_API_KEY`\n",
    "5. Value: Your OpenAI API key\n",
    "6. Click \"Add secret\"\n",
    "\n",
    "The secret will be automatically available as an environment variable in your Codespace.\n",
    "\n",
    "### Option 2: Setting the key in the notebook\n",
    "\n",
    "If you haven't set up a Codespaces secret, you can set the API key directly in the notebook:\n"
   ],
   "id": "e478d8c57b28e86"
  },
  {
   "metadata": {},
   "cell_type": "code",
   "outputs": [],
   "execution_count": null,
   "source": [
    "import os\n",
    "from getpass import getpass\n",
    "\n",
    "# Check if the API key is already set as a Codespaces secret\n",
    "if \"OPENAI_API_KEY\" not in os.environ:\n",
    "    # Prompt for OpenAI API key (this way it won't be visible in the notebook)\n",
    "    openai_api_key = getpass(\"Enter your OpenAI API key: \")\n",
    "    os.environ[\"OPENAI_API_KEY\"] = openai_api_key\n",
    "else:\n",
    "    print(\"OpenAI API key is already set as an environment variable.\")\n",
    "\n",
    "# Optional: Set other configuration variables if needed\n",
    "os.environ[\"OPENAI_MODEL_NAME\"] = \"openai:gpt-4.1-nano\"  # Default model\n",
    "os.environ[\"MEMORY_TYPE\"] = \"buffer\"  # Default memory type\n"
   ],
   "id": "3db09ad6679ae2db"
  },
  {
   "metadata": {},
   "cell_type": "markdown",
   "source": [
    "## 3. Basic Usage Example\n",
    "\n",
    "Here's a simple example of how to use RiskGPT for risk analysis.\n"
   ],
   "id": "e615395393414570"
  },
  {
   "metadata": {},
   "cell_type": "code",
   "outputs": [],
   "execution_count": null,
   "source": [
    "# Import required modules\n",
    "from riskgpt import configure_logging\n",
    "from riskgpt.models.common import BusinessContext\n",
    "from riskgpt.workflows.risk_workflow import run_risk_workflow\n",
    "\n",
    "# Configure logging\n",
    "configure_logging()\n",
    "\n",
    "# Create a business context\n",
    "context = BusinessContext(\n",
    "    project_id=\"ACME-1\",\n",
    "    project_name=\"ACME Corp Security Upgrade\",\n",
    "    description=\"Implement new cybersecurity measures across all departments\"\n",
    ")\n",
    "\n",
    "# Run the risk workflow\n",
    "result = run_risk_workflow(context)\n",
    "\n",
    "# Display the results\n",
    "print(f\"Identified Risks: {len(result.risks)}\")\n",
    "for i, risk in enumerate(result.risks, 1):\n",
    "    print(f\"\\nRisk {i}: {risk.title}\")\n",
    "    print(f\"Description: {risk.description}\")\n",
    "    print(f\"Impact: {risk.impact}\")\n",
    "    print(f\"Probability: {risk.probability}\")\n",
    "    print(f\"Mitigation: {risk.mitigation}\")\n"
   ],
   "id": "ddca7ad990cb6013"
  },
  {
   "metadata": {},
   "cell_type": "markdown",
   "source": [
    "## 4. Advanced Usage: External Context Enrichment\n",
    "\n",
    "RiskGPT can enrich your analysis with external context from web searches.\n"
   ],
   "id": "19eb8cfb1148988b"
  },
  {
   "metadata": {},
   "cell_type": "code",
   "outputs": [],
   "execution_count": null,
   "source": [
    "from riskgpt.api import search_context\n",
    "\n",
    "# Search for recent news about cybersecurity\n",
    "results, ok = search_context(\"ACME Corp cybersecurity\", \"news\")\n",
    "\n",
    "if ok:\n",
    "    print(f\"Found {len(results)} search results:\")\n",
    "    for i, result in enumerate(results, 1):\n",
    "        print(f\"\\nResult {i}: {result.title}\")\n",
    "        print(f\"URL: {result.url}\")\n",
    "        print(f\"Snippet: {result.snippet[:100]}...\")\n",
    "else:\n",
    "    print(\"Search failed or returned no results.\")\n"
   ],
   "id": "e3051568c9618373"
  },
  {
   "metadata": {},
   "cell_type": "markdown",
   "source": [
    "## 5. Local Development in Codespaces\n",
    "\n",
    "If you're developing or modifying the RiskGPT package itself in Codespaces, you can install it in development mode:\n"
   ],
   "id": "23cc5b148e6a8e3b"
  },
  {
   "metadata": {},
   "cell_type": "code",
   "outputs": [],
   "execution_count": null,
   "source": [
    "# Install in development mode (if you're working on the code)\n",
    "# Run this from the repository root directory\n",
    "!pip install -e .\n"
   ],
   "id": "e47e3902228bc157"
  },
  {
   "metadata": {},
   "cell_type": "markdown",
   "source": [
    "## 6. Troubleshooting\n",
    "\n",
    "If you encounter any issues, here are some common troubleshooting steps:\n",
    "\n",
    "1. **Python Version**: RiskGPT requires Python 3.12 or higher. Make sure you're using the correct Python version in your Codespace.\n",
    "\n",
    "2. **API Key**: Ensure your OpenAI API key is valid and has sufficient credits.\n",
    "\n",
    "3. **Dependencies**: If you encounter dependency issues, you can try installing them manually:\n",
    "\n",
    "```python\n",
    "!pip install langchain>=0.3.26 langchain-openai>=0.3.25 langgraph>=0.4.8 pydantic>=2.11.7\n",
    "```\n",
    "\n",
    "4. **Import Errors**: If you see import errors, make sure the package was installed correctly:\n",
    "\n",
    "```python\n",
    "!pip list | grep riskgpt\n",
    "```\n",
    "\n",
    "5. **Codespaces Environment**: If you need to customize your Codespaces environment, consider creating a custom devcontainer configuration. See the [GitHub documentation](https://docs.github.com/en/codespaces/setting-up-your-project-for-codespaces/adding-a-dev-container-configuration/introduction-to-dev-containers) for details.\n"
   ],
   "id": "d549f49f7a1ea8fb"
  }
 ],
 "metadata": {},
 "nbformat": 4,
 "nbformat_minor": 5
}
