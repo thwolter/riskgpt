{
 "cells": [
  {
   "metadata": {},
   "cell_type": "markdown",
   "source": [
    "# Challenge Questions, Challenge Risk, and Enrich Context Workflow\n",
    "\n",
    "This notebook demonstrates how to use the challenge_questions, challenge_risk chains, and the enrich_context workflow in RiskGPT.\n"
   ],
   "id": "87b9bb568f9f4b4"
  },
  {
   "metadata": {},
   "cell_type": "markdown",
   "source": [
    "## 1. Setup and Installation\n",
    "\n",
    "First, let's install RiskGPT and set up the OpenAI API key.\n"
   ],
   "id": "1835b60c61d1624f"
  },
  {
   "metadata": {},
   "cell_type": "code",
   "outputs": [],
   "execution_count": null,
   "source": [
    "# Install RiskGPT directly from GitHub (if needed)\n",
    "# !pip install git+https://github.com/thwolter/riskgpt.git\n",
    "\n",
    "# Import required modules\n",
    "import os\n",
    "from getpass import getpass\n",
    "import asyncio\n",
    "\n",
    "# Prompt for OpenAI API key (this way it won't be visible in the notebook)\n",
    "openai_api_key = getpass(\"Enter your OpenAI API key: \")\n",
    "os.environ[\"OPENAI_API_KEY\"] = openai_api_key\n",
    "\n",
    "# Optional: Set other configuration variables if needed\n",
    "os.environ[\"OPENAI_MODEL_NAME\"] = \"openai:gpt-4.1-nano\"  # Default model\n",
    "os.environ[\"MEMORY_TYPE\"] = \"buffer\"  # Default memory type\n",
    "\n",
    "# Configure logging\n",
    "from riskgpt import configure_logging\n",
    "configure_logging()\n"
   ],
   "id": "7b6dd6bd98992a1d"
  },
  {
   "metadata": {},
   "cell_type": "markdown",
   "source": [
    "## 2. Create a Business Context\n",
    "\n",
    "Let's create a business context that we'll use throughout this notebook.\n"
   ],
   "id": "ae2f23745317697e"
  },
  {
   "metadata": {},
   "cell_type": "code",
   "outputs": [],
   "execution_count": null,
   "source": [
    "from riskgpt.models.common import BusinessContext\n",
    "from riskgpt.models.chains.risk import Risk\n",
    "from riskgpt.models.enums import AudienceEnum\n",
    "\n",
    "# Create a business context\n",
    "context = BusinessContext(\n",
    "    project_id=\"CLOUD-2023\",\n",
    "    project_name=\"Cloud Migration Project\",\n",
    "    description=\"Migrate on-premises infrastructure to cloud services\",\n",
    "    domain_knowledge=\"The company is a financial services provider with strict regulatory requirements\",\n",
    "    business_area=\"IT Infrastructure\",\n",
    "    industry_sector=\"Financial Services\"\n",
    ")\n",
    "\n",
    "# Create a sample risk\n",
    "sample_risk = Risk(\n",
    "    title=\"Data Security Breach\",\n",
    "    description=\"Risk of unauthorized access to sensitive data during migration\",\n",
    "    category=\"Security\",\n",
    "    impact=\"High\",\n",
    "    probability=\"Medium\",\n",
    "    mitigation=\"Implement encryption and access controls\"\n",
    ")\n"
   ],
   "id": "63c20c20a4dc3f3f"
  },
  {
   "metadata": {},
   "cell_type": "markdown",
   "source": [
    "## 3. Challenge Questions Chain\n",
    "\n",
    "The challenge_questions_chain generates challenging questions from a business context that can be used for internet searches.\n"
   ],
   "id": "2ed4ecf5a448076d"
  },
  {
   "metadata": {},
   "cell_type": "code",
   "outputs": [],
   "execution_count": null,
   "source": [
    "from riskgpt.models.chains.questions import ChallengeQuestionsRequest\n",
    "from riskgpt.chains.challenge_questions import challenge_questions_chain\n",
    "\n",
    "# Create a request\n",
    "questions_request = ChallengeQuestionsRequest(\n",
    "    business_context=context,\n",
    "    audience=AudienceEnum.risk_internal,\n",
    "    focus_areas=[\"data security\", \"compliance\", \"service continuity\"],\n",
    "    num_questions=5\n",
    ")\n",
    "\n",
    "# Run the chain\n",
    "async def run_challenge_questions():\n",
    "    response = await challenge_questions_chain(questions_request)\n",
    "    print(f\"Generated {len(response.questions)} challenging questions:\")\n",
    "    for i, question in enumerate(response.questions, 1):\n",
    "        print(f\"{i}. {question}\")\n",
    "    return response\n",
    "\n",
    "# Execute the async function\n",
    "challenge_questions_response = asyncio.run(run_challenge_questions())\n"
   ],
   "id": "c2010ae0e434d5cd"
  },
  {
   "metadata": {},
   "cell_type": "markdown",
   "source": [
    "## 4. Challenge Risk Chain\n",
    "\n",
    "The challenge_risk_chain generates challenging questions for a specific risk to help stakeholders better understand and address the risk.\n"
   ],
   "id": "164119fa67de0457"
  },
  {
   "metadata": {},
   "cell_type": "code",
   "outputs": [],
   "execution_count": null,
   "source": [
    "from riskgpt.models.chains.questions import ChallengeRiskRequest\n",
    "from riskgpt.chains.challenge_risk import challenge_risk_chain\n",
    "\n",
    "# Create a request\n",
    "risk_request = ChallengeRiskRequest(\n",
    "    risk=sample_risk,\n",
    "    business_context=context,\n",
    "    audience=AudienceEnum.risk_internal,\n",
    "    focus_areas=[\"data encryption\", \"access controls\", \"regulatory compliance\"],\n",
    "    num_questions=5\n",
    ")\n",
    "\n",
    "# Run the chain\n",
    "async def run_challenge_risk():\n",
    "    response = await challenge_risk_chain(risk_request)\n",
    "    print(f\"Generated {len(response.questions)} challenging questions for risk '{sample_risk.title}':\")\n",
    "    for i, question in enumerate(response.questions, 1):\n",
    "        print(f\"{i}. {question}\")\n",
    "    return response\n",
    "\n",
    "# Execute the async function\n",
    "challenge_risk_response = asyncio.run(run_challenge_risk())\n"
   ],
   "id": "e28a3eb7b84fc013"
  },
  {
   "metadata": {},
   "cell_type": "markdown",
   "source": [
    "## 5. Enrich Context Workflow\n",
    "\n",
    "The enrich_context workflow enriches a business context with external information from various sources (news, professional, regulatory).\n"
   ],
   "id": "110c8f2666fc1c0a"
  },
  {
   "metadata": {},
   "cell_type": "code",
   "outputs": [],
   "execution_count": null,
   "source": [
    "from riskgpt.models.workflows.context import EnrichContextRequest\n",
    "from riskgpt.workflows.enrich_context import enrich_context\n",
    "\n",
    "# Create a request\n",
    "enrich_request = EnrichContextRequest(\n",
    "    business_context=context,\n",
    "    focus_keywords=[\"cloud migration\", \"financial services\", \"data security\"],\n",
    "    time_horizon_months=12\n",
    ")\n",
    "\n",
    "# Run the workflow\n",
    "async def run_enrich_context():\n",
    "    response = await enrich_context(enrich_request)\n",
    "    print(\"Sector Summary:\")\n",
    "    print(response.sector_summary)\n",
    "    print(\"\\nWorkshop Recommendations:\")\n",
    "    for i, rec in enumerate(response.workshop_recommendations, 1):\n",
    "        print(f\"{i}. {rec}\")\n",
    "    if response.full_report:\n",
    "        print(\"\\nFull Report:\")\n",
    "        print(response.full_report[:500] + \"...\" if len(response.full_report) > 500 else response.full_report)\n",
    "    return response\n",
    "\n",
    "# Execute the async function\n",
    "enrich_context_response = asyncio.run(run_enrich_context())\n"
   ],
   "id": "cb447b0b63a594f5"
  },
  {
   "metadata": {},
   "cell_type": "markdown",
   "source": [
    "## 6. Combining the Workflows\n",
    "\n",
    "Now let's see how we can combine these workflows to create a more comprehensive risk analysis.\n"
   ],
   "id": "ce3f080db6ba7f3b"
  },
  {
   "metadata": {},
   "cell_type": "code",
   "outputs": [],
   "execution_count": null,
   "source": [
    "async def combined_workflow():\n",
    "    # Step 1: Enrich the context with external information\n",
    "    print(\"Step 1: Enriching context with external information...\")\n",
    "    enrich_response = await enrich_context(enrich_request)\n",
    "    \n",
    "    # Step 2: Generate challenging questions based on the enriched context\n",
    "    print(\"\\nStep 2: Generating challenging questions...\")\n",
    "    questions_response = await challenge_questions_chain(questions_request)\n",
    "    \n",
    "    # Step 3: Generate challenging questions for a specific risk\n",
    "    print(\"\\nStep 3: Generating challenging questions for a specific risk...\")\n",
    "    risk_response = await challenge_risk_chain(risk_request)\n",
    "    \n",
    "    # Return all responses\n",
    "    return {\n",
    "        \"enrich_response\": enrich_response,\n",
    "        \"questions_response\": questions_response,\n",
    "        \"risk_response\": risk_response\n",
    "    }\n",
    "\n",
    "# Execute the combined workflow\n",
    "combined_results = asyncio.run(combined_workflow())\n",
    "\n",
    "# Display a summary of the results\n",
    "print(\"\\nSummary of Combined Workflow:\")\n",
    "print(f\"- Enriched context with {len(combined_results['enrich_response'].workshop_recommendations)} recommendations\")\n",
    "print(f\"- Generated {len(combined_results['questions_response'].questions)} challenging questions from business context\")\n",
    "print(f\"- Generated {len(combined_results['risk_response'].questions)} challenging questions for risk '{sample_risk.title}'\")\n"
   ],
   "id": "28283667b8d4b47"
  },
  {
   "metadata": {},
   "cell_type": "markdown",
   "source": [
    "## 7. Conclusion\n",
    "\n",
    "In this notebook, we've demonstrated how to use the challenge_questions, challenge_risk chains, and the enrich_context workflow in RiskGPT. These tools can help risk managers and stakeholders better understand and address risks in their projects.\n",
    "\n",
    "Key takeaways:\n",
    "- The challenge_questions_chain generates questions from a business context for internet searches\n",
    "- The challenge_risk_chain generates questions for a specific risk to help stakeholders address it\n",
    "- The enrich_context workflow enriches a business context with external information\n",
    "- These tools can be combined to create a comprehensive risk analysis workflow"
   ],
   "id": "7bbcfc1a22ade1b5"
  }
 ],
 "metadata": {},
 "nbformat": 4,
 "nbformat_minor": 5
}
