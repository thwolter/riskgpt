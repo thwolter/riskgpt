{
 "cells": [
  {
   "metadata": {},
   "cell_type": "markdown",
   "source": [
    "# Using RiskGPT in Google Colab\n",
    "\n",
    "This notebook demonstrates how to use RiskGPT in Google Colab by installing it directly from the GitHub repository and setting up the OpenAI API key.\n"
   ],
   "id": "a18510c0fa8d1b1e"
  },
  {
   "metadata": {},
   "cell_type": "markdown",
   "source": [
    "## 1. Install RiskGPT from GitHub\n",
    "\n",
    "Since RiskGPT is not available on PyPI, we'll install it directly from the GitHub repository.\n"
   ],
   "id": "1eb97bab0456f68"
  },
  {
   "metadata": {},
   "cell_type": "code",
   "outputs": [],
   "execution_count": null,
   "source": [
    "# Install Python 3.12 in Colab (if needed)\n",
    "!apt-get update\n",
    "!apt-get install python3.12 python3.12-dev python3.12-distutils -y\n",
    "!update-alternatives --install /usr/bin/python3 python3 /usr/bin/python3.12 1\n",
    "\n",
    "# Verify Python version\n",
    "!python3 --version\n"
   ],
   "id": "9056874ea7b21eea"
  },
  {
   "metadata": {},
   "cell_type": "code",
   "outputs": [],
   "execution_count": null,
   "source": [
    "# Install pip for Python 3.12\n",
    "!curl -sS https://bootstrap.pypa.io/get-pip.py | python3.12\n",
    "\n",
    "# Install RiskGPT directly from GitHub\n",
    "!pip install git+https://github.com/thwolter/riskgpt.git\n",
    "\n",
    "# Alternative: If you have access to the wheel file\n",
    "# !pip install /path/to/dist/riskgpt-0.1.0-py3-none-any.whl\n"
   ],
   "id": "410627b581563c94"
  },
  {
   "metadata": {},
   "cell_type": "markdown",
   "source": [
    "## 2. Set up the OpenAI API Key\n",
    "\n",
    "You need to set your OpenAI API key to use RiskGPT. In Colab, you can set environment variables directly in the notebook.\n"
   ],
   "id": "1751666b63ac464e"
  },
  {
   "metadata": {},
   "cell_type": "code",
   "outputs": [],
   "execution_count": null,
   "source": [
    "import os\n",
    "from getpass import getpass\n",
    "\n",
    "# Prompt for OpenAI API key (this way it won't be visible in the notebook)\n",
    "openai_api_key = getpass(\"Enter your OpenAI API key: \")\n",
    "os.environ[\"OPENAI_API_KEY\"] = openai_api_key\n",
    "\n",
    "# Optional: Set other configuration variables if needed\n",
    "os.environ[\"OPENAI_MODEL_NAME\"] = \"openai:gpt-4.1-nano\"  # Default model\n",
    "os.environ[\"MEMORY_TYPE\"] = \"buffer\"  # Default memory type\n"
   ],
   "id": "b02bdd6ebc044d2a"
  },
  {
   "metadata": {},
   "cell_type": "markdown",
   "source": [
    "## 3. Basic Usage Example\n",
    "\n",
    "Here's a simple example of how to use RiskGPT for risk analysis.\n"
   ],
   "id": "df598254ae6bc1c6"
  },
  {
   "metadata": {},
   "cell_type": "code",
   "outputs": [],
   "execution_count": null,
   "source": [
    "# Import required modules\n",
    "from riskgpt import configure_logging\n",
    "from riskgpt.models.common import BusinessContext\n",
    "from riskgpt.workflows.risk_workflow import run_risk_workflow\n",
    "\n",
    "# Configure logging\n",
    "configure_logging()\n",
    "\n",
    "# Create a business context\n",
    "context = BusinessContext(\n",
    "    project_id=\"ACME-1\",\n",
    "    project_name=\"ACME Corp Security Upgrade\",\n",
    "    description=\"Implement new cybersecurity measures across all departments\"\n",
    ")\n",
    "\n",
    "# Run the risk workflow\n",
    "result = run_risk_workflow(context)\n",
    "\n",
    "# Display the results\n",
    "print(f\"Identified Risks: {len(result.risks)}\")\n",
    "for i, risk in enumerate(result.risks, 1):\n",
    "    print(f\"\\nRisk {i}: {risk.title}\")\n",
    "    print(f\"Description: {risk.description}\")\n",
    "    print(f\"Impact: {risk.impact}\")\n",
    "    print(f\"Probability: {risk.probability}\")\n",
    "    print(f\"Mitigation: {risk.mitigation}\")\n"
   ],
   "id": "59b9a848c66b0baf"
  },
  {
   "metadata": {},
   "cell_type": "markdown",
   "source": [
    "## 4. Advanced Usage: External Context Enrichment\n",
    "\n",
    "RiskGPT can enrich your analysis with external context from web searches.\n"
   ],
   "id": "ddd792b005925575"
  },
  {
   "metadata": {},
   "cell_type": "code",
   "outputs": [],
   "execution_count": null,
   "source": [
    "from riskgpt.api import search_context\n",
    "\n",
    "# Search for recent news about cybersecurity\n",
    "results, ok = search_context(\"ACME Corp cybersecurity\", \"news\")\n",
    "\n",
    "if ok:\n",
    "    print(f\"Found {len(results)} search results:\")\n",
    "    for i, result in enumerate(results, 1):\n",
    "        print(f\"\\nResult {i}: {result.title}\")\n",
    "        print(f\"URL: {result.url}\")\n",
    "        print(f\"Snippet: {result.snippet[:100]}...\")\n",
    "else:\n",
    "    print(\"Search failed or returned no results.\")\n"
   ],
   "id": "36d19c5434ce12b6"
  },
  {
   "metadata": {},
   "cell_type": "markdown",
   "source": [
    "## 5. Troubleshooting\n",
    "\n",
    "If you encounter any issues, here are some common troubleshooting steps:\n",
    "\n",
    "1. **Python Version**: RiskGPT requires Python 3.12 or higher. Make sure you've installed and are using the correct Python version.\n",
    "\n",
    "2. **API Key**: Ensure your OpenAI API key is valid and has sufficient credits.\n",
    "\n",
    "3. **Dependencies**: If you encounter dependency issues, you can try installing them manually:\n",
    "\n",
    "```python\n",
    "!pip install langchain>=0.3.26 langchain-openai>=0.3.25 langgraph>=0.4.8 pydantic>=2.11.7\n",
    "```\n",
    "\n",
    "4. **Import Errors**: If you see import errors, make sure the package was installed correctly:\n",
    "\n",
    "```python\n",
    "!pip list | grep riskgpt\n",
    "```\n"
   ],
   "id": "a0dd97bd87a6eb33"
  }
 ],
 "metadata": {},
 "nbformat": 4,
 "nbformat_minor": 5
}
