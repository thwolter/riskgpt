{
 "cells": [
  {
   "metadata": {},
   "cell_type": "markdown",
   "source": [
    "# Challenge Questions, Challenge Risk, and Enrich Context Workflow\n",
    "\n",
    "This notebook demonstrates how to use the challenge_questions, challenge_risk chains, and the enrich_context workflow in RiskGPT.\n"
   ],
   "id": "87b9bb568f9f4b4"
  },
  {
   "metadata": {},
   "cell_type": "markdown",
   "source": [
    "## 1. Setup and Installation\n",
    "\n",
    "First, let's install RiskGPT and set up the OpenAI API key.\n"
   ],
   "id": "1835b60c61d1624f"
  },
  {
   "metadata": {
    "ExecuteTime": {
     "end_time": "2025-06-26T17:50:45.737755Z",
     "start_time": "2025-06-26T17:50:36.745990Z"
    }
   },
   "cell_type": "code",
   "source": [
    "# Install RiskGPT directly from GitHub (if needed)\n",
    "# !pip install git+https://github.com/thwolter/riskgpt.git\n",
    "\n",
    "# Import required modules\n",
    "import os\n",
    "from getpass import getpass\n",
    "import asyncio\n",
    "\n",
    "# Prompt for OpenAI API key (this way it won't be visible in the notebook)\n",
    "openai_api_key = getpass(\"Enter your OpenAI API key: \")\n",
    "os.environ[\"OPENAI_API_KEY\"] = openai_api_key\n",
    "\n",
    "# Prompt for OpenAI API key (this way it won't be visible in the notebook)\n",
    "tavily_api_key = getpass(\"Enter your Tavily API key: \")\n",
    "os.environ[\"TAVILY_API_KEY\"] = tavily_api_key\n",
    "\n",
    "# Optional: Set other configuration variables if needed\n",
    "os.environ[\"OPENAI_MODEL_NAME\"] = \"openai:gpt-4.1-nano\"  # Default model\n",
    "os.environ[\"SEARCH_PROVIDER\"] = \"tavily\"  # Default memory type\n",
    "\n",
    "# Configure logging\n",
    "from riskgpt.logger import configure_logging\n",
    "configure_logging()\n"
   ],
   "id": "c14830533fc51fbe",
   "outputs": [
    {
     "data": {
      "text/plain": [
       "<Logger src (INFO)>"
      ]
     },
     "execution_count": 4,
     "metadata": {},
     "output_type": "execute_result"
    }
   ],
   "execution_count": 4
  },
  {
   "metadata": {},
   "cell_type": "markdown",
   "source": [
    "## 2. Create a Business Context\n",
    "\n",
    "Let's create a business context that we'll use throughout this notebook.\n"
   ],
   "id": "310c08bab77a10c5"
  },
  {
   "metadata": {
    "ExecuteTime": {
     "end_time": "2025-06-26T18:00:01.466875Z",
     "start_time": "2025-06-26T18:00:01.455856Z"
    }
   },
   "cell_type": "code",
   "source": [
    "from riskgpt.models.common import BusinessContext\n",
    "from riskgpt.models.chains.risk import Risk\n",
    "from riskgpt.models.enums import AudienceEnum\n",
    "\n",
    "# Create a business context\n",
    "context = BusinessContext(\n",
    "    project_id=\"CLOUD-2023\",\n",
    "    project_description=\"Migrate on-premises infrastructure to cloud services\",\n",
    "    domain_knowledge=\"The company is a financial services provider with strict regulatory requirements\",\n",
    "    business_area=\"IT Infrastructure\",\n",
    "    industry_sector=\"Financial Services\"\n",
    ")\n",
    "\n",
    "# Create a sample risk\n",
    "sample_risk = Risk(\n",
    "    title=\"Data Security Breach\",\n",
    "    description=\"Risk of unauthorized access to sensitive data during migration\",\n",
    "    category=\"Security\",\n",
    ")\n"
   ],
   "id": "ffdf3fc08d6e92f4",
   "outputs": [],
   "execution_count": 3
  },
  {
   "metadata": {},
   "cell_type": "markdown",
   "source": [
    "## 3. Challenge Questions Chain\n",
    "\n",
    "The challenge_questions_chain generates challenging questions from a business context that can be used for internet searches.\n"
   ],
   "id": "2ed4ecf5a448076d"
  },
  {
   "metadata": {
    "ExecuteTime": {
     "end_time": "2025-06-26T17:51:15.413952Z",
     "start_time": "2025-06-26T17:51:12.487681Z"
    }
   },
   "cell_type": "code",
   "source": [
    "from riskgpt.models.chains.questions import ChallengeQuestionsRequest\n",
    "from riskgpt.chains.challenge_questions import challenge_questions_chain\n",
    "\n",
    "# Create a request\n",
    "questions_request = ChallengeQuestionsRequest(\n",
    "    business_context=context,\n",
    "    audience=AudienceEnum.risk_internal,\n",
    "    focus_areas=[\"data security\", \"compliance\", \"service continuity\"],\n",
    "    num_questions=5\n",
    ")\n",
    "\n",
    "# Run the chain\n",
    "async def run_challenge_questions():\n",
    "    response = await challenge_questions_chain(questions_request)\n",
    "    print(f\"Generated {len(response.questions)} challenging questions:\")\n",
    "    for i, question in enumerate(response.questions, 1):\n",
    "        print(f\"{i}. {question}\")\n",
    "    return response\n",
    "\n",
    "# Execute the async function\n",
    "challenge_questions_response = await run_challenge_questions()\n"
   ],
   "id": "aaab67fad220c6d9",
   "outputs": [
    {
     "name": "stderr",
     "output_type": "stream",
     "text": [
      "2025-06-26 19:51:15,407 - src - INFO - Consumed 923 tokens (0.0001 USD) for 'challenge_questions' using openai:gpt-4.1-nano\n",
      "2025-06-26 19:51:15,407 - src - INFO - Consumed 923 tokens (0.0001 USD) for 'challenge_questions' using openai:gpt-4.1-nano\n"
     ]
    },
    {
     "name": "stdout",
     "output_type": "stream",
     "text": [
      "Generated 5 challenging questions:\n",
      "1. What are the key data security vulnerabilities associated with migrating sensitive financial customer data to cloud services in a regulated environment?\n",
      "2. How can the company ensure continuous service availability and disaster recovery compliance during and after the cloud migration process?\n",
      "3. What specific regulatory compliance challenges may arise when deploying cloud infrastructure in the financial services sector, and how can they be mitigated?\n",
      "4. What risks do potential misconfigurations or insufficient access controls pose to data security and compliance in the cloud migration project?\n",
      "5. How can the organization effectively assess and manage third-party cloud service provider risks to uphold strict regulatory standards?\n"
     ]
    }
   ],
   "execution_count": 5
  },
  {
   "metadata": {},
   "cell_type": "markdown",
   "source": [
    "## 4. Challenge Risk Chain\n",
    "\n",
    "The challenge_risk_chain generates challenging questions for a specific risk to help stakeholders better understand and address the risk.\n"
   ],
   "id": "ebec3f137c5eb76"
  },
  {
   "metadata": {
    "ExecuteTime": {
     "end_time": "2025-06-26T17:51:23.216109Z",
     "start_time": "2025-06-26T17:51:19.974665Z"
    }
   },
   "cell_type": "code",
   "source": [
    "from riskgpt.models.chains.questions import ChallengeRiskRequest\n",
    "from riskgpt.chains.challenge_risk import challenge_risk_chain\n",
    "\n",
    "# Create a request\n",
    "risk_request = ChallengeRiskRequest(\n",
    "    risk=sample_risk,\n",
    "    business_context=context,\n",
    "    audience=AudienceEnum.risk_internal,\n",
    "    focus_areas=[\"data encryption\", \"access controls\", \"regulatory compliance\"],\n",
    "    num_questions=3\n",
    ")\n",
    "\n",
    "# Run the chain\n",
    "async def run_challenge_risk():\n",
    "    response = await challenge_risk_chain(risk_request)\n",
    "    print(f\"Generated {len(response.questions)} challenging questions for risk '{sample_risk.title}':\")\n",
    "    for i, question in enumerate(response.questions, 1):\n",
    "        print(f\"{i}. {question}\")\n",
    "    return response\n",
    "\n",
    "# Execute the async function\n",
    "challenge_risk_response = await run_challenge_risk()\n"
   ],
   "id": "df625bf33163c408",
   "outputs": [
    {
     "name": "stderr",
     "output_type": "stream",
     "text": [
      "2025-06-26 19:51:23,213 - src - INFO - Consumed 1065 tokens (0.0002 USD) for 'challenge_risk' using openai:gpt-4.1-nano\n",
      "2025-06-26 19:51:23,213 - src - INFO - Consumed 1065 tokens (0.0002 USD) for 'challenge_risk' using openai:gpt-4.1-nano\n"
     ]
    },
    {
     "name": "stdout",
     "output_type": "stream",
     "text": [
      "Generated 3 challenging questions for risk 'Data Security Breach':\n",
      "1. How robust are the encryption mechanisms applied during data transfer and storage to prevent interception or unauthorized access, especially given the heightened regulatory scrutiny in financial services?\n",
      "2. What specific access control policies and multi-factor authentication measures are in place to restrict migration-related data access, and how are these controls regularly tested for effectiveness?\n",
      "3. Have comprehensive compliance audits been conducted to identify potential regulatory gaps in the migration process, and what contingency plans exist if compliance violations are detected during or after migration?\n"
     ]
    }
   ],
   "execution_count": 6
  },
  {
   "metadata": {},
   "cell_type": "markdown",
   "source": [
    "## 5. Enrich Context Workflow\n",
    "\n",
    "The enrich_context workflow enriches a business context with external information from various sources (news, professional, regulatory).\n"
   ],
   "id": "e6e8aec22d57579d"
  },
  {
   "metadata": {
    "jupyter": {
     "is_executing": true
    },
    "ExecuteTime": {
     "start_time": "2025-06-26T18:00:15.628871Z"
    }
   },
   "cell_type": "code",
   "source": [
    "from riskgpt.models.workflows.context import EnrichContextRequest\n",
    "from riskgpt.workflows.enrich_context import enrich_context\n",
    "\n",
    "# Create a request\n",
    "enrich_request = EnrichContextRequest(\n",
    "    business_context=context,\n",
    "    focus_keywords=[\"cloud migration\", \"financial services\", \"data security\"],\n",
    "    time_horizon_months=12\n",
    ")\n",
    "\n",
    "# Run the workflow\n",
    "async def run_enrich_context():\n",
    "    response = await enrich_context(enrich_request)\n",
    "    print(\"Sector Summary:\")\n",
    "    print(response.sector_summary)\n",
    "    print(\"\\nWorkshop Recommendations:\")\n",
    "    for i, rec in enumerate(response.workshop_recommendations, 1):\n",
    "        print(f\"{i}. {rec}\")\n",
    "    if response.full_report:\n",
    "        print(\"\\nFull Report:\")\n",
    "        print(response.full_report[:500] + \"...\" if len(response.full_report) > 500 else response.full_report)\n",
    "    return response\n",
    "\n",
    "# Execute the async function\n",
    "enrich_context_response = await run_enrich_context()\n"
   ],
   "id": "e4e9e1a2df9a6ee0",
   "outputs": [],
   "execution_count": null
  },
  {
   "metadata": {},
   "cell_type": "code",
   "source": "enrich_context_response.full_report",
   "id": "6be43037b6f3702e",
   "outputs": [],
   "execution_count": null
  },
  {
   "metadata": {},
   "cell_type": "markdown",
   "source": [
    "## 6. Combining the Workflows\n",
    "\n",
    "Now let's see how we can combine these workflows to create a more comprehensive risk analysis.\n"
   ],
   "id": "589eac6234c02e8a"
  },
  {
   "metadata": {},
   "cell_type": "code",
   "source": [
    "async def combined_workflow():\n",
    "    # Step 1: Enrich the context with external information\n",
    "    print(\"Step 1: Enriching context with external information...\")\n",
    "    enrich_response = await enrich_context(enrich_request)\n",
    "    \n",
    "    # Step 2: Generate challenging questions based on the enriched context\n",
    "    print(\"\\nStep 2: Generating challenging questions...\")\n",
    "    questions_response = await challenge_questions_chain(questions_request)\n",
    "    \n",
    "    # Step 3: Generate challenging questions for a specific risk\n",
    "    print(\"\\nStep 3: Generating challenging questions for a specific risk...\")\n",
    "    risk_response = await challenge_risk_chain(risk_request)\n",
    "    \n",
    "    # Return all responses\n",
    "    return {\n",
    "        \"enrich_response\": enrich_response,\n",
    "        \"questions_response\": questions_response,\n",
    "        \"risk_response\": risk_response\n",
    "    }\n",
    "\n",
    "# Execute the combined workflow\n",
    "combined_results = asyncio.run(combined_workflow())\n",
    "\n",
    "# Display a summary of the results\n",
    "print(\"\\nSummary of Combined Workflow:\")\n",
    "print(f\"- Enriched context with {len(combined_results['enrich_response'].workshop_recommendations)} recommendations\")\n",
    "print(f\"- Generated {len(combined_results['questions_response'].questions)} challenging questions from business context\")\n",
    "print(f\"- Generated {len(combined_results['risk_response'].questions)} challenging questions for risk '{sample_risk.title}'\")\n"
   ],
   "id": "d950b109af51efc",
   "outputs": [],
   "execution_count": null
  },
  {
   "metadata": {},
   "cell_type": "markdown",
   "source": [
    "## 7. Conclusion\n",
    "\n",
    "In this notebook, we've demonstrated how to use the challenge_questions, challenge_risk chains, and the enrich_context workflow in RiskGPT. These tools can help risk managers and stakeholders better understand and address risks in their projects.\n",
    "\n",
    "Key takeaways:\n",
    "- The challenge_questions_chain generates questions from a business context for internet searches\n",
    "- The challenge_risk_chain generates questions for a specific risk to help stakeholders address it\n",
    "- The enrich_context workflow enriches a business context with external information\n",
    "- These tools can be combined to create a comprehensive risk analysis workflow"
   ],
   "id": "7bbcfc1a22ade1b5"
  }
 ],
 "metadata": {},
 "nbformat": 4,
 "nbformat_minor": 5
}
